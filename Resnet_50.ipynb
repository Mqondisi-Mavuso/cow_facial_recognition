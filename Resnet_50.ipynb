{
  "nbformat": 4,
  "nbformat_minor": 0,
  "metadata": {
    "colab": {
      "provenance": [],
      "mount_file_id": "1DZSqwvQ1d4AEVA0oO95DTq6YTyBdg8zQ",
      "authorship_tag": "ABX9TyMwvrgKlD3HihHiWDwdzsvT",
      "include_colab_link": true
    },
    "kernelspec": {
      "name": "python3",
      "display_name": "Python 3"
    },
    "language_info": {
      "name": "python"
    }
  },
  "cells": [
    {
      "cell_type": "markdown",
      "metadata": {
        "id": "view-in-github",
        "colab_type": "text"
      },
      "source": [
        "<a href=\"https://colab.research.google.com/github/Mqondisi-Mavuso/cow_facial_recognition/blob/main/Resnet_50.ipynb\" target=\"_parent\"><img src=\"https://colab.research.google.com/assets/colab-badge.svg\" alt=\"Open In Colab\"/></a>"
      ]
    },
    {
      "cell_type": "code",
      "execution_count": 1,
      "metadata": {
        "colab": {
          "base_uri": "https://localhost:8080/"
        },
        "id": "sEsWq-1EFPp8",
        "outputId": "4ffd8dcf-bda6-41a0-8338-6dde04a427ff"
      },
      "outputs": [
        {
          "output_type": "stream",
          "name": "stdout",
          "text": [
            "Drive already mounted at /content/drive; to attempt to forcibly remount, call drive.mount(\"/content/drive\", force_remount=True).\n"
          ]
        }
      ],
      "source": [
        "from google.colab import drive\n",
        "drive.mount('/content/drive')"
      ]
    },
    {
      "cell_type": "code",
      "source": [
        "import matplotlib.pyplot as plt\n",
        "import numpy as np\n",
        "import os\n",
        "import PIL\n",
        "import tensorflow as tf\n",
        "from tensorflow import keras\n",
        "from keras import layers\n",
        "from tensorflow.python.keras.layers import Dense, Flatten\n",
        "from keras.models import Sequential\n",
        "from keras.optimizers import Adam"
      ],
      "metadata": {
        "id": "vRUl26MFFep3"
      },
      "execution_count": 63,
      "outputs": []
    },
    {
      "cell_type": "code",
      "source": [
        "data_dir = \"/content/drive/MyDrive/DATA/train\"\n",
        "img_height,img_width=224, 224\n",
        "batch_size=10\n",
        "train_ds = tf.keras.preprocessing.image_dataset_from_directory(\n",
        "  data_dir,\n",
        "  validation_split=0.2,\n",
        "  subset=\"training\",\n",
        "  label_mode=\"categorical\",\n",
        "  seed=123,\n",
        "  image_size=(img_height, img_width),\n",
        "  batch_size=batch_size)"
      ],
      "metadata": {
        "colab": {
          "base_uri": "https://localhost:8080/"
        },
        "id": "hSwKLwuyF8aY",
        "outputId": "3e844be5-f6a4-4d01-9cff-79389e18b9ef"
      },
      "execution_count": 64,
      "outputs": [
        {
          "output_type": "stream",
          "name": "stdout",
          "text": [
            "Found 373 files belonging to 22 classes.\n",
            "Using 299 files for training.\n"
          ]
        }
      ]
    },
    {
      "cell_type": "code",
      "source": [
        "val_ds = tf.keras.preprocessing.image_dataset_from_directory(\n",
        "  data_dir,\n",
        "  validation_split=0.2,\n",
        "  subset=\"validation\",\n",
        "  label_mode=\"categorical\",\n",
        "  seed=123,\n",
        "  image_size=(img_height, img_width),\n",
        "  batch_size=batch_size)"
      ],
      "metadata": {
        "colab": {
          "base_uri": "https://localhost:8080/"
        },
        "id": "GYtMu9uBGEui",
        "outputId": "4a2893c8-2144-435d-ffe9-749884311697"
      },
      "execution_count": 65,
      "outputs": [
        {
          "output_type": "stream",
          "name": "stdout",
          "text": [
            "Found 373 files belonging to 22 classes.\n",
            "Using 74 files for validation.\n"
          ]
        }
      ]
    },
    {
      "cell_type": "code",
      "source": [
        "class_names = train_ds.class_names\n",
        "print(class_names)"
      ],
      "metadata": {
        "colab": {
          "base_uri": "https://localhost:8080/"
        },
        "id": "auFy5E0RGLHz",
        "outputId": "e7c9dbb1-6586-45ee-a106-ce973f056521"
      },
      "execution_count": 66,
      "outputs": [
        {
          "output_type": "stream",
          "name": "stdout",
          "text": [
            "['cow1', 'cow10', 'cow11', 'cow12', 'cow13', 'cow14', 'cow15', 'cow16', 'cow17', 'cow18', 'cow19', 'cow2', 'cow20', 'cow21', 'cow22', 'cow3', 'cow4', 'cow5', 'cow6', 'cow7', 'cow8', 'cow9']\n"
          ]
        }
      ]
    },
    {
      "cell_type": "code",
      "source": [
        "# import matplotlib.pyplot as plt\n",
        "\n",
        "# plt.figure(figsize=(10, 10))\n",
        "# for images, labels in train_ds.take(1):\n",
        "#   for i in range(6):\n",
        "#     ax = plt.subplot(3, 3, i + 1)\n",
        "#     plt.imshow(images[i].numpy().astype(\"uint8\"))\n",
        "#     plt.title(class_names[labels[i]])\n",
        "#     plt.axis(\"off\")"
      ],
      "metadata": {
        "id": "LbH1AjBYGf1s"
      },
      "execution_count": null,
      "outputs": []
    },
    {
      "cell_type": "code",
      "source": [
        "resnet_model = Sequential()\n",
        "\n",
        "pretrained_model= tf.keras.applications.Xception(include_top=False,\n",
        "                   input_shape=(224, 224, 3),\n",
        "                   pooling='avg',classes=22,\n",
        "                   weights='imagenet')\n",
        "for layer in pretrained_model.layers:\n",
        "        layer.trainable=False\n",
        "\n",
        "resnet_model.add(pretrained_model)\n",
        "resnet_model.add(Flatten())\n",
        "resnet_model.add(Dense(1024, activation='relu'))\n",
        "resnet_model.add(Dense(22, activation='softmax'))"
      ],
      "metadata": {
        "id": "YkC_wdyIGwgo"
      },
      "execution_count": 75,
      "outputs": []
    },
    {
      "cell_type": "code",
      "source": [
        "resnet_model.summary()"
      ],
      "metadata": {
        "colab": {
          "base_uri": "https://localhost:8080/"
        },
        "id": "NfOKns97JFbD",
        "outputId": "703d7fe1-5c50-416c-d843-da9742d8b422"
      },
      "execution_count": 76,
      "outputs": [
        {
          "output_type": "stream",
          "name": "stdout",
          "text": [
            "Model: \"sequential_8\"\n",
            "_________________________________________________________________\n",
            " Layer (type)                Output Shape              Param #   \n",
            "=================================================================\n",
            " xception (Functional)       (None, 2048)              20861480  \n",
            "                                                                 \n",
            " module_wrapper_24 (ModuleWr  (None, 2048)             0         \n",
            " apper)                                                          \n",
            "                                                                 \n",
            " module_wrapper_25 (ModuleWr  (None, 1024)             2098176   \n",
            " apper)                                                          \n",
            "                                                                 \n",
            " module_wrapper_26 (ModuleWr  (None, 22)               22550     \n",
            " apper)                                                          \n",
            "                                                                 \n",
            "=================================================================\n",
            "Total params: 22,982,206\n",
            "Trainable params: 2,120,726\n",
            "Non-trainable params: 20,861,480\n",
            "_________________________________________________________________\n"
          ]
        }
      ]
    },
    {
      "cell_type": "code",
      "source": [
        "resnet_model.compile(optimizer=Adam(learning_rate=0.001),loss='categorical_crossentropy',metrics=['accuracy'])"
      ],
      "metadata": {
        "id": "J9mWdCSPG7xw"
      },
      "execution_count": 77,
      "outputs": []
    },
    {
      "cell_type": "code",
      "source": [
        "epochs=10\n",
        "history = resnet_model.fit(\n",
        "  train_ds,\n",
        "  validation_data=val_ds,\n",
        "  epochs=epochs\n",
        ")"
      ],
      "metadata": {
        "colab": {
          "base_uri": "https://localhost:8080/"
        },
        "id": "84My-26vHEd_",
        "outputId": "4e47298b-3ea4-4c2d-8ef3-3d536b636044"
      },
      "execution_count": 78,
      "outputs": [
        {
          "output_type": "stream",
          "name": "stdout",
          "text": [
            "Epoch 1/10\n",
            "30/30 [==============================] - 98s 3s/step - loss: 14.1871 - accuracy: 0.2308 - val_loss: 6.9127 - val_accuracy: 0.4054\n",
            "Epoch 2/10\n",
            "30/30 [==============================] - 91s 3s/step - loss: 2.7443 - accuracy: 0.6087 - val_loss: 3.8721 - val_accuracy: 0.5000\n",
            "Epoch 3/10\n",
            "30/30 [==============================] - 90s 3s/step - loss: 1.5425 - accuracy: 0.6957 - val_loss: 2.3924 - val_accuracy: 0.6757\n",
            "Epoch 4/10\n",
            "30/30 [==============================] - 93s 3s/step - loss: 0.7334 - accuracy: 0.8027 - val_loss: 2.2597 - val_accuracy: 0.6081\n",
            "Epoch 5/10\n",
            "30/30 [==============================] - 93s 3s/step - loss: 0.7102 - accuracy: 0.8462 - val_loss: 3.2954 - val_accuracy: 0.6486\n",
            "Epoch 6/10\n",
            "30/30 [==============================] - 91s 3s/step - loss: 0.9141 - accuracy: 0.8361 - val_loss: 2.3172 - val_accuracy: 0.6892\n",
            "Epoch 7/10\n",
            "30/30 [==============================] - 93s 3s/step - loss: 0.4184 - accuracy: 0.9298 - val_loss: 1.6670 - val_accuracy: 0.7297\n",
            "Epoch 8/10\n",
            "30/30 [==============================] - 92s 3s/step - loss: 0.4299 - accuracy: 0.9064 - val_loss: 2.7696 - val_accuracy: 0.6081\n",
            "Epoch 9/10\n",
            "30/30 [==============================] - 92s 3s/step - loss: 0.2535 - accuracy: 0.9398 - val_loss: 2.3076 - val_accuracy: 0.7162\n",
            "Epoch 10/10\n",
            "30/30 [==============================] - 93s 3s/step - loss: 0.0506 - accuracy: 0.9866 - val_loss: 1.9238 - val_accuracy: 0.7838\n"
          ]
        }
      ]
    },
    {
      "cell_type": "markdown",
      "source": [
        "**Evaluating the model **"
      ],
      "metadata": {
        "id": "iO4C2XqeN7v7"
      }
    },
    {
      "cell_type": "code",
      "source": [
        "fig1 = plt.gcf()\n",
        "plt.plot(history.history['accuracy'])\n",
        "plt.plot(history.history['val_accuracy'])\n",
        "plt.axis(ymin=0.4,ymax=1)\n",
        "plt.grid()\n",
        "plt.title('Model Accuracy')\n",
        "plt.ylabel('Accuracy')\n",
        "plt.xlabel('Epochs')\n",
        "plt.legend(['train', 'validation'])\n",
        "plt.show()"
      ],
      "metadata": {
        "colab": {
          "base_uri": "https://localhost:8080/",
          "height": 295
        },
        "id": "uwb6Q4xsOEBL",
        "outputId": "31e1e06e-2957-4f23-e1c1-f85ca1daa510"
      },
      "execution_count": 79,
      "outputs": [
        {
          "output_type": "display_data",
          "data": {
            "text/plain": [
              "<Figure size 432x288 with 1 Axes>"
            ],
            "image/png": "[encoded data removed]"
          },
          "metadata": {
            "needs_background": "light"
          }
        }
      ]
    },
    {
      "cell_type": "code",
      "source": [
        "plt.plot(history.history['loss'])\n",
        "plt.plot(history.history['val_loss'])\n",
        "plt.grid()\n",
        "plt.title('Model Loss')\n",
        "plt.ylabel('Loss')\n",
        "plt.xlabel('Epochs')\n",
        "plt.legend(['train', 'validation'])\n",
        "plt.show()"
      ],
      "metadata": {
        "colab": {
          "base_uri": "https://localhost:8080/",
          "height": 295
        },
        "id": "_eSILU4ZOJKR",
        "outputId": "3447497f-feee-4441-b1d9-b561d2dd7ecf"
      },
      "execution_count": 80,
      "outputs": [
        {
          "output_type": "display_data",
          "data": {
            "text/plain": [
              "<Figure size 432x288 with 1 Axes>"
            ],
            "image/png": "[encoded data removed]"
          },
          "metadata": {
            "needs_background": "light"
          }
        }
      ]
    },
    {
      "cell_type": "markdown",
      "source": [
        "Making Preditions "
      ],
      "metadata": {
        "id": "ajeJB3jCOQ53"
      }
    },
    {
      "cell_type": "code",
      "source": [
        "import cv2\n",
        "image=cv2.imread(\"/content/drive/MyDrive/DATA/test/c4/c4_1.jpg\")\n",
        "image_resized= cv2.resize(image, (img_height,img_width))\n",
        "image=np.expand_dims(image_resized,axis=0)\n",
        "pred=resnet_model.predict(image)\n",
        "output_class=class_names[np.argmax(pred)]\n",
        "print(\"The predicted class is\", output_class)"
      ],
      "metadata": {
        "colab": {
          "base_uri": "https://localhost:8080/"
        },
        "id": "EO9Q8latOTlg",
        "outputId": "8cfddb38-6f66-48a5-a5da-d0f0e206031b"
      },
      "execution_count": 81,
      "outputs": [
        {
          "output_type": "stream",
          "name": "stdout",
          "text": [
            "1/1 [==============================] - 1s 1s/step\n",
            "The predicted class is cow3\n"
          ]
        }
      ]
    },
    {
      "cell_type": "code",
      "source": [
        "test_dir = '/content/drive/MyDrive/DATA/test'\n",
        "test_generator = tf.keras.preprocessing.image_dataset_from_directory(\n",
        "    test_dir,\n",
        "    image_size=(img_height,img_width),\n",
        "    batch_size=5,\n",
        "    label_mode='categorical',\n",
        "    shuffle=False)\n",
        "\n",
        "\n",
        "# Evaluate your model\n",
        "test_loss, test_accuracy = resnet_model.evaluate(test_generator)\n",
        "\n",
        "# Print the results\n",
        "print(f\"Test accuracy: {test_accuracy}\")"
      ],
      "metadata": {
        "colab": {
          "base_uri": "https://localhost:8080/"
        },
        "id": "cWIpcWRFQl5V",
        "outputId": "53e23553-fb68-49d3-b66d-fe8eef594e48"
      },
      "execution_count": 82,
      "outputs": [
        {
          "output_type": "stream",
          "name": "stdout",
          "text": [
            "Found 220 files belonging to 22 classes.\n",
            "44/44 [==============================] - 56s 1s/step - loss: 8.3150 - accuracy: 0.1682\n",
            "Test accuracy: 0.16818182170391083\n"
          ]
        }
      ]
    }
  ]
}