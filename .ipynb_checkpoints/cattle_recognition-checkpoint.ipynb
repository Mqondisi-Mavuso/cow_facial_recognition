{
 "cells": [
  {
   "cell_type": "code",
   "execution_count": 17,
   "id": "c32027f2",
   "metadata": {},
   "outputs": [],
   "source": [
    "import cv2\n",
    "import numpy as np\n",
    "import matplotlib.pyplot as plt\n",
    "import IPython.display as ipd\n",
    "%matplotlib inline"
   ]
  },
  {
   "cell_type": "code",
   "execution_count": 1,
   "id": "eb9d6e40",
   "metadata": {},
   "outputs": [
    {
     "name": "stdout",
     "output_type": "stream",
     "text": [
      "loading Roboflow workspace...\n",
      "loading Roboflow project...\n",
      "Downloading Dataset Version Zip in Thecowface-1 to yolov8: 100% [7540144 / 7540144] bytes\n"
     ]
    },
    {
     "name": "stderr",
     "output_type": "stream",
     "text": [
      "Extracting Dataset Version Zip to Thecowface-1 in yolov8:: 100%|████████████████████████| 282/282 [00:00<00:00, 603.51it/s]\n"
     ]
    }
   ],
   "source": [
    "# This is for downloading the YOLOv8 cow face images and labels\n",
    "#!pip install roboflow\n",
    "from roboflow import Roboflow\n",
    "rf = Roboflow(api_key=\"my_api_here\")                    #remeber to commit this to public repo\n",
    "project = rf.workspace(\"face-cow\").project(\"thecowface\")\n",
    "dataset = project.version(1).download(\"yolov8\")\n",
    "\n"
   ]
  },
  {
   "cell_type": "code",
   "execution_count": 9,
   "id": "3afefb15",
   "metadata": {},
   "outputs": [],
   "source": [
    "from ultralytics import YOLO\n",
    "from IPython.display import display, Image"
   ]
  },
  {
   "cell_type": "code",
   "execution_count": 1,
   "id": "72f8b89b",
   "metadata": {},
   "outputs": [],
   "source": [
    "#training the model to segment the cow face using custom dataset \n",
    "from ultralytics import YOLO\n",
    "\n",
    "model = YOLO(\"yolov8n-seg.pt\")  # load a pretrained model (recommended for training)\n",
    "# Train the model\n",
    "model.train(data=\"data.yaml\", epochs=100)\n",
    "\n"
   ]
  },
  {
   "cell_type": "code",
   "execution_count": null,
   "id": "c1f3981c",
   "metadata": {},
   "outputs": [],
   "source": [
    "################################## Cow Face Segmentation Above ######################### "
   ]
  },
  {
   "cell_type": "code",
   "execution_count": null,
   "id": "87528440",
   "metadata": {},
   "outputs": [],
   "source": [
    "################################## Cow Face Identification below ######################### "
   ]
  },
  {
   "cell_type": "code",
   "execution_count": 1,
   "id": "518c20b1",
   "metadata": {},
   "outputs": [],
   "source": []
  },
  {
   "cell_type": "code",
   "execution_count": 15,
   "id": "a7ec28d2",
   "metadata": {},
   "outputs": [],
   "source": [
    "# import the videos to read each frame \n",
    "cap = cv2.VideoCapture(\"DATA/test/c22/IMG_3751.MOV\")"
   ]
  },
  {
   "cell_type": "code",
   "execution_count": 16,
   "id": "e5cd1c32",
   "metadata": {},
   "outputs": [],
   "source": [
    "# total number of frames\n",
    "num_frame = int(cap.get(cv2.CAP_PROP_FRAME_COUNT))"
   ]
  },
  {
   "cell_type": "code",
   "execution_count": 2,
   "id": "63f82078",
   "metadata": {},
   "outputs": [],
   "source": [
    "# display image function\n",
    "def show_pic(img_cross):\n",
    "    fig = plt.figure(figsize=(15,15))\n",
    "    ax = fig.add_subplot(111)\n",
    "    ax.imshow(img_cross, cmap = \"gray\")\n"
   ]
  },
  {
   "cell_type": "code",
   "execution_count": 18,
   "id": "a7787724",
   "metadata": {},
   "outputs": [],
   "source": [
    "#getting the frames from each video\n",
    "def get_frames(num_frame):\n",
    "    for frame in range(num_frame//2):\n",
    "        ret, img = cap.read()\n",
    "        # this rotates the image before writing to file\n",
    "        rotated_img = cv2.rotate(img, cv2.ROTATE_180)        \n",
    "        if ret == False:\n",
    "            break\n",
    "        else:\n",
    "            path = r\"DATA/test/c22\"\n",
    "            name = f'/b_c{frame + 1}.jpg' \n",
    "            # write the file\n",
    "            cv2.imwrite(f'{path}{name}', rotated_img)\n",
    "            "
   ]
  },
  {
   "cell_type": "code",
   "execution_count": 6,
   "id": "11768876",
   "metadata": {},
   "outputs": [],
   "source": [
    "# this call will write the images to our training folder \n",
    "get_frames(num_frame=num_frame)\n",
    "cap.release()"
   ]
  },
  {
   "cell_type": "code",
   "execution_count": 3,
   "id": "dddc8bee",
   "metadata": {},
   "outputs": [],
   "source": [
    "from keras.preprocessing.image import ImageDataGenerator"
   ]
  },
  {
   "cell_type": "code",
   "execution_count": 4,
   "id": "7de8412a",
   "metadata": {},
   "outputs": [],
   "source": [
    "image_gen = ImageDataGenerator(rotation_range=30,\n",
    "                               width_shift_range=0.1,\n",
    "                               height_shift_range=0.1,\n",
    "                               rescale=1/255,\n",
    "                               shear_range=0.2,\n",
    "                               zoom_range=0.2,\n",
    "                               horizontal_flip=True,\n",
    "                               fill_mode=\"nearest\"                                \n",
    "                                )"
   ]
  },
  {
   "cell_type": "code",
   "execution_count": 5,
   "id": "f18e2036",
   "metadata": {},
   "outputs": [
    {
     "name": "stdout",
     "output_type": "stream",
     "text": [
      "Found 13308 images belonging to 22 classes.\n"
     ]
    },
    {
     "data": {
      "text/plain": [
       "<keras.preprocessing.image.DirectoryIterator at 0x1fbc4c97d00>"
      ]
     },
     "execution_count": 5,
     "metadata": {},
     "output_type": "execute_result"
    }
   ],
   "source": [
    "image_gen.flow_from_directory(\"DATA/train/\")"
   ]
  },
  {
   "cell_type": "code",
   "execution_count": 7,
   "id": "c6b6c5d8",
   "metadata": {},
   "outputs": [],
   "source": [
    "# we'll use this shape for all the images \n",
    "input_shape = (550, 960, 3)"
   ]
  },
  {
   "cell_type": "code",
   "execution_count": 8,
   "id": "51ab32f9",
   "metadata": {},
   "outputs": [],
   "source": [
    "the_cow = cv2.imread('DATA/train/c1/a_c102.jpg')\n",
    "the_cow = cv2.cvtColor(the_cow, cv2.COLOR_BGR2RGB)"
   ]
  },
  {
   "cell_type": "code",
   "execution_count": 9,
   "id": "9e606cb6",
   "metadata": {},
   "outputs": [
    {
     "data": {
      "text/plain": [
       "(3840, 2160, 3)"
      ]
     },
     "execution_count": 9,
     "metadata": {},
     "output_type": "execute_result"
    }
   ],
   "source": [
    "the_cow.shape"
   ]
  },
  {
   "cell_type": "code",
   "execution_count": 10,
   "id": "dd4bc60d",
   "metadata": {},
   "outputs": [],
   "source": [
    "resized = cv2.resize(the_cow, (550, 960), interpolation = cv2.INTER_AREA)"
   ]
  },
  {
   "cell_type": "code",
   "execution_count": 37,
   "id": "e50be134",
   "metadata": {},
   "outputs": [
    {
     "data": {
      "text/plain": [
       "(960, 550, 3)"
      ]
     },
     "execution_count": 37,
     "metadata": {},
     "output_type": "execute_result"
    }
   ],
   "source": [
    "resized.shape"
   ]
  },
  {
   "cell_type": "code",
   "execution_count": 2,
   "id": "12c0d3cd",
   "metadata": {},
   "outputs": [],
   "source": [
    "show_pic(image_gen.random_transform(resized))"
   ]
  },
  {
   "cell_type": "code",
   "execution_count": 12,
   "id": "21b0d268",
   "metadata": {},
   "outputs": [],
   "source": [
    "from keras.models import Sequential\n",
    "from keras.layers import Activation, Dropout, Flatten, Conv2D, MaxPooling2D, Dense"
   ]
  },
  {
   "cell_type": "code",
   "execution_count": 13,
   "id": "d3534e1e",
   "metadata": {},
   "outputs": [],
   "source": [
    "model = Sequential()\n",
    "# adding our convulutional nueral network layers \n",
    "model.add(Conv2D(filters=32, kernel_size=(3,3), input_shape=input_shape, activation=\"relu\"))\n",
    "model.add(MaxPooling2D(pool_size=(2,2)))\n",
    "          \n",
    "model.add(Conv2D(filters=64, kernel_size=(3,3), input_shape=input_shape, activation=\"relu\"))\n",
    "model.add(MaxPooling2D(pool_size=(2,2)))\n",
    "          \n",
    "model.add(Conv2D(filters=64, kernel_size=(3,3), input_shape=input_shape, activation=\"relu\"))\n",
    "model.add(MaxPooling2D(pool_size=(2,2)))\n",
    "          \n",
    "model.add(Flatten())\n",
    "\n",
    "model.add(Dense(128))\n",
    "model.add(Activation(\"relu\"))\n",
    "\n",
    "# the dropout layer reduces overfitting by randomly turning off nuerons during training \n",
    "model.add(Dropout(0.5))\n",
    "\n",
    "# the output is binary, either cow1 or cow.. hence Dense layer is just one\n",
    "model.add(Dense(1))\n",
    "model.add(Activation(\"sigmoid\"))\n",
    "          \n",
    "model.compile(loss=\"binary_crossentropy\",\n",
    "             optimizer=\"adam\",\n",
    "             metrics=[\"accuracy\"]\n",
    "             )"
   ]
  },
  {
   "cell_type": "code",
   "execution_count": 3,
   "id": "16aba84b",
   "metadata": {},
   "outputs": [],
   "source": [
    "model.summary()"
   ]
  },
  {
   "cell_type": "code",
   "execution_count": 15,
   "id": "5774e19a",
   "metadata": {},
   "outputs": [
    {
     "name": "stdout",
     "output_type": "stream",
     "text": [
      "Found 13308 images belonging to 22 classes.\n"
     ]
    }
   ],
   "source": [
    "batch_size = 16\n",
    "# here we are just pointing the iterator to the path with the training data\n",
    "train_img_gen = image_gen.flow_from_directory(\"DATA/train/\",\n",
    "                                             target_size=input_shape[:2],\n",
    "                                             batch_size=batch_size,\n",
    "                                             class_mode=\"categorical\")"
   ]
  },
  {
   "cell_type": "code",
   "execution_count": 4,
   "id": "5be8baaa",
   "metadata": {},
   "outputs": [],
   "source": [
    "# to see how the data classes will be presented \n",
    "train_img_gen.class_indices"
   ]
  },
  {
   "cell_type": "code",
   "execution_count": 17,
   "id": "6300a2fe",
   "metadata": {},
   "outputs": [
    {
     "name": "stdout",
     "output_type": "stream",
     "text": [
      "Found 3269 images belonging to 22 classes.\n"
     ]
    }
   ],
   "source": [
    "test_img_gen = image_gen.flow_from_directory(\"DATA/test/\",\n",
    "                                             target_size=input_shape[:2],\n",
    "                                             batch_size=batch_size,\n",
    "                                             class_mode=\"categorical\")"
   ]
  },
  {
   "cell_type": "code",
   "execution_count": 18,
   "id": "ca564e28",
   "metadata": {},
   "outputs": [
    {
     "name": "stdout",
     "output_type": "stream",
     "text": [
      "Epoch 1/5\n",
      "150/150 [==============================] - 1107s 7s/step - loss: 0.2830 - accuracy: 0.9409 - val_loss: 0.1895 - val_accuracy: 0.9545\n",
      "Epoch 2/5\n",
      "150/150 [==============================] - 1249s 8s/step - loss: 0.1934 - accuracy: 0.9545 - val_loss: 0.1854 - val_accuracy: 0.9545\n",
      "Epoch 3/5\n",
      "150/150 [==============================] - 1189s 8s/step - loss: 0.1926 - accuracy: 0.9545 - val_loss: 0.1864 - val_accuracy: 0.9545\n",
      "Epoch 4/5\n",
      "150/150 [==============================] - 1121s 7s/step - loss: 0.1921 - accuracy: 0.9545 - val_loss: 0.1888 - val_accuracy: 0.9545\n",
      "Epoch 5/5\n",
      "150/150 [==============================] - 1079s 7s/step - loss: 0.1917 - accuracy: 0.9545 - val_loss: 0.1858 - val_accuracy: 0.9545\n"
     ]
    }
   ],
   "source": [
    "# training the model on our images \n",
    "results = model.fit(train_img_gen, epochs=5, steps_per_epoch=150,\n",
    "                             validation_data=test_img_gen, validation_steps=12)"
   ]
  },
  {
   "cell_type": "code",
   "execution_count": 28,
   "id": "da71bec0",
   "metadata": {},
   "outputs": [
    {
     "data": {
      "text/plain": [
       "[<matplotlib.lines.Line2D at 0x1fbc78c6880>]"
      ]
     },
     "execution_count": 28,
     "metadata": {},
     "output_type": "execute_result"
    },
    {
     "data": {
      "image/png": "[encoded data removed]",
      "text/plain": [
       "<Figure size 432x288 with 1 Axes>"
      ]
     },
     "metadata": {
      "needs_background": "light"
     },
     "output_type": "display_data"
    }
   ],
   "source": [
    "# saving the model \n",
    "#model.save(\"Cow_model.h5\")\n",
    "# now we evaluate the model \n",
    "plt.plot(results.history[\"accuracy\"])"
   ]
  },
  {
   "cell_type": "code",
   "execution_count": 74,
   "id": "5f00d3d0",
   "metadata": {},
   "outputs": [],
   "source": [
    "import tensorflow.compat.v2 as tf\n",
    "from keras.preprocessing import image\n",
    "\n",
    "# the_cow_1 = cv2.imread('DATA/train/c1/a_c102.jpg')\n",
    "\n",
    "# the_cow_1 = image.load_img(the_cow_1, target_size=(960, 550))\n",
    "\n",
    "# the_cow_1 = image.img_to_array(the_cow_1)\n",
    "\n",
    "# the_cow_1 = np.expand_dims(the_cow_1, axis=0)\n",
    "# the_cow_1 = the_cow_1/255\n",
    "\n",
    "the_cow_1 = tf.keras.utils.load_img('DATA/test/fake/false3.jpg', target_size=(550, 960))\n",
    "input_arr = tf.keras.utils.img_to_array(the_cow_1)\n",
    "input_arr = np.array([input_arr])  # Convert single image to a batch.\n",
    "input_arr = input_arr/255\n"
   ]
  },
  {
   "cell_type": "code",
   "execution_count": 5,
   "id": "ea75f18a",
   "metadata": {},
   "outputs": [],
   "source": [
    "train_img_gen.class_indices"
   ]
  },
  {
   "cell_type": "code",
   "execution_count": 75,
   "id": "e7edc1d0",
   "metadata": {},
   "outputs": [
    {
     "name": "stdout",
     "output_type": "stream",
     "text": [
      "1/1 [==============================] - 0s 171ms/step\n"
     ]
    }
   ],
   "source": [
    "#prediction_prob = model.predict(the_cow_1)\n",
    "#predictions = model.predict_classes(input_arr)\n",
    "\n",
    "predicted = np.argmax(model.predict(input_arr),axis=1)"
   ]
  }
 ],
 "metadata": {
  "kernelspec": {
   "display_name": "Python 3 (ipykernel)",
   "language": "python",
   "name": "python3"
  },
  "language_info": {
   "codemirror_mode": {
    "name": "ipython",
    "version": 3
   },
   "file_extension": ".py",
   "mimetype": "text/x-python",
   "name": "python",
   "nbconvert_exporter": "python",
   "pygments_lexer": "ipython3",
   "version": "3.9.12"
  }
 },
 "nbformat": 4,
 "nbformat_minor": 5
}
