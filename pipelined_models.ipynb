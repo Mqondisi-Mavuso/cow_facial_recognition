{
  "nbformat": 4,
  "nbformat_minor": 0,
  "metadata": {
    "colab": {
      "provenance": []
    },
    "kernelspec": {
      "name": "python3",
      "display_name": "Python 3"
    },
    "language_info": {
      "name": "python"
    }
  },
  "cells": [
    {
      "cell_type": "code",
      "execution_count": 1,
      "metadata": {
        "colab": {
          "base_uri": "https://localhost:8080/"
        },
        "id": "cvAgn8mFitMw",
        "outputId": "7f7badd5-85f4-40bd-ac9b-461d84e73aae"
      },
      "outputs": [
        {
          "output_type": "stream",
          "name": "stdout",
          "text": [
            "Mounted at /content/drive\n"
          ]
        }
      ],
      "source": [
        "from google.colab import drive\n",
        "drive.mount('/content/drive')"
      ]
    },
    {
      "cell_type": "code",
      "source": [
        "from sklearn.pipeline import Pipeline\n",
        "from tensorflow import keras\n",
        "import cv2"
      ],
      "metadata": {
        "id": "jdBIAhPHufbM"
      },
      "execution_count": 14,
      "outputs": []
    },
    {
      "cell_type": "markdown",
      "source": [
        "## YOLO Model for face detection"
      ],
      "metadata": {
        "id": "0fmBG3kDjGH2"
      }
    },
    {
      "cell_type": "code",
      "source": [
        "%pip install ultralytics\n",
        "from ultralytics import YOLO\n",
        "\n",
        "#Load the pre-trained YOLOV8 model\n",
        "path=\"/content/drive/MyDrive/Colab_Notebooks/runs/detect/train/weights/best.pt\"\n",
        "yolo_model = YOLO(path)\n",
        "\n",
        "import numpy as np\n",
        "import pandas as pd\n",
        "from PIL import Image\n",
        "\n",
        "def crop_face(image, model):\n",
        "    \"\"\"\n",
        "    takes the image and the model, return a cropped cow face\n",
        "    \"\"\"\n",
        "    # Convert the input image to a PIL Image object if it is not already\n",
        "    if isinstance(image, np.ndarray):\n",
        "        image = Image.fromarray(image)\n",
        "\n",
        "    # Ensure the image is in RGB format\n",
        "    image_rgb = image.convert('RGB')\n",
        "\n",
        "    results = model(np.array(image_rgb), conf = 0.5)  # predict on an image\n",
        "    a = results[0].boxes.boxes\n",
        "    px = pd.DataFrame(a).astype(\"float\")\n",
        "\n",
        "    for index, row in px.iterrows():\n",
        "        x1 = int(row[0])\n",
        "        y1 = int(row[1])\n",
        "        x2 = int(row[2])\n",
        "        y2 = int(row[3])\n",
        "\n",
        "        if (x1 != 0) and (x2 != 0):\n",
        "            # Crop the object from the image\n",
        "            object_image = image_rgb.crop((x1, y1, x2, y2))\n",
        "\n",
        "            # Resize the image to the desired shape (224, 224)\n",
        "            resized_image = object_image.resize((224, 224), Image.ANTIALIAS)\n",
        "\n",
        "            return resized_image\n",
        "\n",
        "        else:\n",
        "            return None\n"
      ],
      "metadata": {
        "id": "oQfiqqJpjFh3"
      },
      "execution_count": null,
      "outputs": []
    },
    {
      "cell_type": "markdown",
      "source": [
        "##VGG16 Classification model"
      ],
      "metadata": {
        "id": "nHF7CCJUj9-8"
      }
    },
    {
      "cell_type": "code",
      "source": [
        "class_names = ['cow1', 'cow10', 'cow11', 'cow12', 'cow13', 'cow14', 'cow15',\n",
        "              'cow16', 'cow17', 'cow18', 'cow19', 'cow2', 'cow20', 'cow21',\n",
        "              'cow22', 'cow3', 'cow4', 'cow5', 'cow6', 'cow7', 'cow8', 'cow9']\n",
        "def predict_cow(cow_img, vgg16_model):\n",
        "  \"\"\"\n",
        "  takes the image and the model, return the cow class\n",
        "  \"\"\"\n",
        "  #predict on the image using saved model\n",
        "  image=np.expand_dims(cow_img,axis=0)\n",
        "  pred=vgg16_model.predict(image)\n",
        "  output_class=class_names[np.argmax(pred)]\n",
        "  return output_class\n",
        "\n"
      ],
      "metadata": {
        "id": "no_dm_4Si87h"
      },
      "execution_count": 5,
      "outputs": []
    },
    {
      "cell_type": "markdown",
      "source": [
        "##Pipelining the models"
      ],
      "metadata": {
        "id": "n5xP1-kUkeRE"
      }
    },
    {
      "cell_type": "code",
      "source": [
        "from sklearn.base import BaseEstimator, TransformerMixin\n",
        "\n",
        "class CowFaceCropper(BaseEstimator, TransformerMixin):\n",
        "    def __init__(self, model):\n",
        "        self.model = model\n",
        "\n",
        "    def fit(self, X, y=None):\n",
        "        return self\n",
        "\n",
        "    def transform(self, X, y=None):\n",
        "        cropped_images = [crop_face(image, self.model) for image in X]\n",
        "        return cropped_images\n"
      ],
      "metadata": {
        "id": "iMPCh8E-otaX"
      },
      "execution_count": 8,
      "outputs": []
    },
    {
      "cell_type": "code",
      "source": [
        "class CowClassPredictor(BaseEstimator, TransformerMixin):\n",
        "    def __init__(self, model):\n",
        "        self.model = model\n",
        "\n",
        "    def fit(self, X, y=None):\n",
        "        return self\n",
        "\n",
        "    def transform(self, X, y=None):\n",
        "        predictions = [predict_cow(image, self.model) for image in X]\n",
        "        return predictions\n"
      ],
      "metadata": {
        "id": "zKda8wHGoyoR"
      },
      "execution_count": 9,
      "outputs": []
    },
    {
      "cell_type": "code",
      "source": [
        "from sklearn.pipeline import Pipeline\n",
        "\n",
        "#loading the vgg16_model\n",
        "vgg16_model = keras.models.load_model('/content/drive/MyDrive/cow_id_AI/vgg16_62')\n",
        "\n",
        "# Initialize the custom transformers with their respective models\n",
        "face_cropper = CowFaceCropper(yolo_model)\n",
        "class_predictor = CowClassPredictor(vgg16_model)\n",
        "\n",
        "# Create the pipeline\n",
        "pipeline = Pipeline([\n",
        "    ('face_cropper', face_cropper),\n",
        "    ('class_predictor', class_predictor)\n",
        "])\n",
        "\n",
        "# Use the pipeline to predict cow classes for a list of input images\n",
        "image1 = cv2.imread(\"/content/drive/MyDrive/cow_id_AI/DATA/a_c113.jpg\")\n",
        "image2 = cv2.imread(\"/content/drive/MyDrive/cow_id_AI/DATA/a_c13.jpg\")\n",
        "image3 = cv2.imread(\"/content/drive/MyDrive/cow_id_AI/DATA/a_c37.jpg\")\n",
        "image4 = cv2.imread(\"/content/drive/MyDrive/cow_id_AI/DATA/a_c12.jpg\")\n",
        "input_images = [image1, image2, image4]  # List of input images\n",
        "predictions = pipeline.transform(input_images)\n"
      ],
      "metadata": {
        "colab": {
          "base_uri": "https://localhost:8080/"
        },
        "id": "cCBhD8FIo2gR",
        "outputId": "feae855c-dd45-4d13-8f59-eb94f0108d1d"
      },
      "execution_count": 16,
      "outputs": [
        {
          "output_type": "stream",
          "name": "stderr",
          "text": [
            "\n",
            "0: 640x384 1 Cow Face, 120.0ms\n",
            "Speed: 0.8ms preprocess, 120.0ms inference, 1.4ms postprocess per image at shape (1, 3, 640, 640)\n",
            "\n",
            "0: 640x384 1 Cow Face, 119.6ms\n",
            "Speed: 1.5ms preprocess, 119.6ms inference, 0.8ms postprocess per image at shape (1, 3, 640, 640)\n",
            "\n",
            "0: 640x384 1 Cow Face, 115.4ms\n",
            "Speed: 1.2ms preprocess, 115.4ms inference, 0.9ms postprocess per image at shape (1, 3, 640, 640)\n"
          ]
        },
        {
          "output_type": "stream",
          "name": "stdout",
          "text": [
            "1/1 [==============================] - 1s 693ms/step\n",
            "The predicted class is cow5\n",
            "1/1 [==============================] - 1s 545ms/step\n",
            "The predicted class is cow7\n",
            "1/1 [==============================] - 1s 568ms/step\n",
            "The predicted class is cow22\n"
          ]
        }
      ]
    }
  ]
}