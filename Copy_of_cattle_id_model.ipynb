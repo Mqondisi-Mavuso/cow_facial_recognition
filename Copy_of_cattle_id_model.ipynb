{
  "cells": [
    {
      "cell_type": "markdown",
      "metadata": {
        "id": "view-in-github",
        "colab_type": "text"
      },
      "source": [
        "<a href=\"https://colab.research.google.com/github/Mqondisi-Mavuso/cow_facial_recognition/blob/main/Copy_of_cattle_id_model.ipynb\" target=\"_parent\"><img src=\"https://colab.research.google.com/assets/colab-badge.svg\" alt=\"Open In Colab\"/></a>"
      ]
    },
    {
      "cell_type": "code",
      "execution_count": null,
      "id": "c32027f2",
      "metadata": {
        "id": "c32027f2"
      },
      "outputs": [],
      "source": [
        "import cv2\n",
        "import numpy as np\n",
        "import pandas as pd\n",
        "import matplotlib.pyplot as plt\n",
        "import IPython.display as ipd\n",
        "%matplotlib inline"
      ]
    },
    {
      "cell_type": "code",
      "source": [
        "from google.colab import drive\n",
        "drive.mount('/content/drive')"
      ],
      "metadata": {
        "id": "OFfvsTai_i_o",
        "colab": {
          "base_uri": "https://localhost:8080/"
        },
        "outputId": "145dc803-c06d-474a-bba0-f4c3d4808633"
      },
      "id": "OFfvsTai_i_o",
      "execution_count": null,
      "outputs": [
        {
          "output_type": "stream",
          "name": "stdout",
          "text": [
            "Drive already mounted at /content/drive; to attempt to forcibly remount, call drive.mount(\"/content/drive\", force_remount=True).\n"
          ]
        }
      ]
    },
    {
      "cell_type": "code",
      "source": [
        "import csv\n",
        "import os\n",
        "\n",
        "# Define the directory to search for JPG files\n",
        "directory = \"/content/drive/MyDrive/DATA/train\"\n",
        "\n",
        "# Create a CSV file to write the results to\n",
        "with open(\"labels.csv\", \"w\", newline=\"\") as csvfile:\n",
        "    fieldnames = [\"filename\", \"id\"]\n",
        "    writer = csv.DictWriter(csvfile, fieldnames=fieldnames)\n",
        "    writer.writeheader()\n",
        "\n",
        "    # Loop through all subdirectories in the main directory\n",
        "    for subdir, dirs, files in os.walk(directory):\n",
        "        # Loop through all JPG files in each subdirectory\n",
        "        for file in files:\n",
        "            if file.lower().endswith(\".jpg\"):\n",
        "                # Get the filename and ID\n",
        "                filename = file\n",
        "                id = file[3:file.index(\"_\")]\n",
        "\n",
        "                # Write the filename and ID to the CSV file\n",
        "                writer.writerow({\"filename\": filename, \"id\": id})\n"
      ],
      "metadata": {
        "id": "K4g7sqA0SZfF"
      },
      "id": "K4g7sqA0SZfF",
      "execution_count": null,
      "outputs": []
    },
    {
      "cell_type": "code",
      "source": [
        "import os\n",
        "\n",
        "def rename_images(root_dir):\n",
        "    \"\"\"\n",
        "    Rename every image in every subdirectory using its directory name followed by its unique id.\n",
        "    \"\"\"\n",
        "    # Traverse all directories and files in the root directory\n",
        "    for subdir, dirs, files in os.walk(root_dir):\n",
        "        # For each image file in the current directory\n",
        "        for i, file in enumerate(files):\n",
        "            # Check if the file is an image\n",
        "            if file.endswith(\".jpg\") or file.endswith(\".jpeg\") or file.endswith(\".png\") or file.endswith(\".gif\"):\n",
        "                # Get the directory name and use it as the prefix for the new filename\n",
        "                prefix = os.path.basename(subdir)\n",
        "                # Generate a unique id for the file\n",
        "                unique_id = str(i+1)\n",
        "                # Get the file extension\n",
        "                ext = os.path.splitext(file)[1]\n",
        "                # Generate the new filename\n",
        "                new_filename = prefix + \"_\" + unique_id + ext\n",
        "                # Rename the file\n",
        "                os.rename(os.path.join(subdir, file), os.path.join(subdir, new_filename))\n",
        "\n",
        "# renaming the images \n",
        "root_dir = \"/content/drive/MyDrive/DATA/test\"\n",
        "rename_images(root_dir)\n"
      ],
      "metadata": {
        "id": "N1OEqJkRNyzo"
      },
      "id": "N1OEqJkRNyzo",
      "execution_count": null,
      "outputs": []
    },
    {
      "cell_type": "code",
      "source": [
        "import os\n",
        "import random\n",
        "\n",
        "# Set the path to the directory containing the subdirectories of images\n",
        "parent_directory = \"/content/drive/MyDrive/DATA/test\"\n",
        "\n",
        "# Set the number of images to keep in each subdirectory\n",
        "num_images_to_keep = 10\n",
        "\n",
        "# Loop through each subdirectory in the parent directory\n",
        "for subdir in os.listdir(parent_directory):\n",
        "    subdir_path = os.path.join(parent_directory, subdir)\n",
        "    if os.path.isdir(subdir_path):\n",
        "        # Get a list of all the images in the subdirectory\n",
        "        images = [os.path.join(subdir_path, f) for f in os.listdir(subdir_path) if f.endswith(\".jpg\") or f.endswith(\".png\")]\n",
        "        # If there are more than num_images_to_keep images, randomly select which ones to keep\n",
        "        if len(images) > num_images_to_keep:\n",
        "            images_to_keep = random.sample(images, num_images_to_keep)\n",
        "            # Deleting images that were not selected to be kept\n",
        "            for image in images:\n",
        "                if image not in images_to_keep:\n",
        "                    os.remove(image)\n"
      ],
      "metadata": {
        "id": "xfoyU8C_DoaA"
      },
      "id": "xfoyU8C_DoaA",
      "execution_count": null,
      "outputs": []
    },
    {
      "cell_type": "code",
      "source": [
        "# import the videos to read each frame \n",
        "cap = cv2.VideoCapture(\"DATA/test/c22/IMG_3751.MOV\")"
      ],
      "metadata": {
        "id": "05yMu-0K_DSQ"
      },
      "id": "05yMu-0K_DSQ",
      "execution_count": null,
      "outputs": []
    },
    {
      "cell_type": "code",
      "source": [
        "# total number of frames\n",
        "num_frame = int(cap.get(cv2.CAP_PROP_FRAME_COUNT))"
      ],
      "metadata": {
        "id": "dTHNhzKA_J-B"
      },
      "id": "dTHNhzKA_J-B",
      "execution_count": null,
      "outputs": []
    },
    {
      "cell_type": "code",
      "source": [
        "#getting the frames from each video\n",
        "def get_frames(num_frame):\n",
        "    for frame in range(num_frame//2):\n",
        "        ret, img = cap.read()\n",
        "        # this rotates the image before writing to file\n",
        "        rotated_img = cv2.rotate(img, cv2.ROTATE_180)        \n",
        "        if ret == False:\n",
        "            break\n",
        "        else:\n",
        "            path = r\"DATA/test/c22\"\n",
        "            name = f'/b_c{frame + 1}.jpg' \n",
        "            # write the file\n",
        "            cv2.imwrite(f'{path}{name}', rotated_img)"
      ],
      "metadata": {
        "id": "OV0ZdvW1-0ua"
      },
      "id": "OV0ZdvW1-0ua",
      "execution_count": null,
      "outputs": []
    },
    {
      "cell_type": "code",
      "source": [
        "# this call will write the images to our training folder \n",
        "get_frames(num_frame=num_frame)\n",
        "cap.release()"
      ],
      "metadata": {
        "id": "2qOLQ_1y_jrG"
      },
      "id": "2qOLQ_1y_jrG",
      "execution_count": null,
      "outputs": []
    },
    {
      "cell_type": "code",
      "execution_count": null,
      "id": "eb9d6e40",
      "metadata": {
        "id": "eb9d6e40"
      },
      "outputs": [],
      "source": [
        "# This is for downloading the YOLOv8 cow face images and labels\n",
        "# !pip install roboflow\n",
        "\n",
        "# from roboflow import Roboflow\n",
        "# rf = Roboflow(api_key=\"my_api_here\")                    \n",
        "# project = rf.workspace(\"face-cow\").project(\"thecowface\")\n",
        "# dataset = project.version(1).download(\"yolov8\")\n",
        "\n",
        "#!pip install roboflow\n",
        "\n",
        "# from roboflow import Roboflow\n",
        "# rf = Roboflow(api_key=\"GzhyGHnKKy58hjhTCDdG\")\n",
        "# project = rf.workspace(\"cowseg\").project(\"thecowface-tj1no\")\n",
        "# dataset = project.version(1).download(\"coco-segmentation\")\n"
      ]
    },
    {
      "cell_type": "code",
      "execution_count": null,
      "id": "72f8b89b",
      "metadata": {
        "id": "72f8b89b"
      },
      "outputs": [],
      "source": [
        "#training the model to segment the cow face using custom dataset \n",
        "%pip install ultralytics\n",
        "from ultralytics import YOLO\n",
        "\n",
        "model = YOLO(\"/content/drive/MyDrive/Colab_Notebooks/runs/detect/train/weights/best.pt\")\n",
        "# Training the model\n",
        "#!yolo train model=yolov8n-seg.pt data=coco128.yaml epochs=3 imgsz=640\n",
        "#model.train(data=\"/content/drive/MyDrive/cow_id_AI/cow_facial_recognition/Thecowface-1/data.yaml\", epochs=100)"
      ]
    },
    {
      "cell_type": "code",
      "source": [
        "def show_img(image_path):\n",
        "  img = cv2.imread(image_path)\n",
        "  fig, ax = plt.subplots(figsize=(15,15))\n",
        "  plt.imshow(cv2.cvtColor(img, cv2.COLOR_BGR2RGB))\n",
        "  ax.grid(False)           # remove the grid lines\n",
        "  plt.show()"
      ],
      "metadata": {
        "id": "h1cwoUxUZL5H"
      },
      "id": "h1cwoUxUZL5H",
      "execution_count": null,
      "outputs": []
    },
    {
      "cell_type": "code",
      "source": [
        "# image_path = \"/content/runs/detect/train/val_batch0_pred.jpg\"\n",
        "# show_img(image_path=image_path)"
      ],
      "metadata": {
        "id": "uBIPvc27KKl1"
      },
      "id": "uBIPvc27KKl1",
      "execution_count": null,
      "outputs": []
    },
    {
      "cell_type": "code",
      "source": [
        "# Load the first image\n",
        "confusion_matrix = cv2.imread(\"/content/runs/detect/train/confusion_matrix.png\")\n",
        "\n",
        "# Load the second image\n",
        "results = cv2.imread(\"/content/runs/detect/train/results.png\")\n",
        "\n",
        "# Create a figure with two subplots\n",
        "fig, ax = plt.subplots(1, 2, figsize=(20,20))\n",
        "\n",
        "# Display the first image on the first subplot\n",
        "ax[0].imshow(cv2.cvtColor(confusion_matrix, cv2.COLOR_BGR2RGB))\n",
        "\n",
        "# Display the second image on the second subplot\n",
        "ax[1].imshow(cv2.cvtColor(results, cv2.COLOR_BGR2RGB))\n",
        "\n",
        "ax[0].grid(False)\n",
        "ax[1].grid(False)    \n",
        "\n",
        "# Show the figure\n",
        "plt.show()"
      ],
      "metadata": {
        "id": "lt3y3BMuNkTu"
      },
      "id": "lt3y3BMuNkTu",
      "execution_count": null,
      "outputs": []
    },
    {
      "cell_type": "code",
      "source": [
        "#validate the model on images it has not seen\n",
        "\n",
        "#model = YOLO(\"/content/runs/detect/train2/weights/best.pt\")  # load a custom model\n",
        "\n",
        "# Validate the model\n",
        "#!yolo task=detect mode=val model=\"/content/runs/detect/train2/weights/best.pt\" data=data.yaml\n",
        "#!yolo val model='/content/runs/detect/train2/weights/best.pt data=coco128'\n",
        "\n",
        "# import subprocess\n",
        "\n",
        "# # Set up the command\n",
        "# command = ['yolo', 'task=detect', 'mode=predict', 'model=/content/runs/detect/train/weights/best.pt', 'conf=0.25', 'source=/content/drive/MyDrive/DATA/test/c12/b_c13.jpg', 'save=True']\n",
        "\n",
        "# # Run the command using subprocess\n",
        "# result = subprocess.run(command, stdout=subprocess.PIPE, stderr=subprocess.PIPE, text=True)\n",
        "\n",
        "# # Print the output\n",
        "# print(result.stdout)\n",
        "\n"
      ],
      "metadata": {
        "id": "MBmvZ7cXUlZ6"
      },
      "id": "MBmvZ7cXUlZ6",
      "execution_count": null,
      "outputs": []
    },
    {
      "cell_type": "markdown",
      "source": [
        "This is for saving the cropped facial images after facial detection"
      ],
      "metadata": {
        "id": "oTqs-vsm-WYE"
      },
      "id": "oTqs-vsm-WYE"
    },
    {
      "cell_type": "code",
      "source": [
        "from os import listdir, path\n",
        "import cv2\n",
        "import pandas as pd\n",
        "\n",
        "the_path = \"/content/drive/MyDrive/DATA/train/cow10\"\n",
        "image_filenames = listdir(the_path)\n",
        "\n",
        "for filename in image_filenames:\n",
        "    image_path = path.join(the_path, filename)\n",
        "    image = cv2.imread(image_path)\n",
        "    results = model(image)  # predict on an image\n",
        "    a = results[0].boxes.boxes\n",
        "    px = pd.DataFrame(a).astype(\"float\")\n",
        "\n",
        "    for index, row in px.iterrows():\n",
        "        x1 = int(row[0])\n",
        "        y1 = int(row[1])\n",
        "        x2 = int(row[2])\n",
        "        y2 = int(row[3])\n",
        "        \n",
        "        if (x1 != 0) and (x2 != 0):\n",
        "            # Crop the object from the image\n",
        "            object_image = image[y1:y2, x1:x2]\n",
        "            \n",
        "            # Save the cropped image as a new file in the same directory as the original image\n",
        "            new_filename = f\"{filename[:-4]}_cropped_{index}.jpg\"\n",
        "            cv2.imwrite(path.join(the_path, new_filename), object_image)\n",
        "        else:\n",
        "          continue\n"
      ],
      "metadata": {
        "id": "POVzSze6-orS"
      },
      "id": "POVzSze6-orS",
      "execution_count": null,
      "outputs": []
    },
    {
      "cell_type": "code",
      "source": [
        "# removing the uncropped images\n",
        "import os\n",
        "\n",
        "folder_path = \"/content/drive/MyDrive/DATA/train/c9\"\n",
        "\n",
        "for file_name in os.listdir(folder_path):\n",
        "    if file_name.endswith(\".jpg\") and \"cr\" not in file_name:\n",
        "        os.remove(os.path.join(folder_path, file_name))\n"
      ],
      "metadata": {
        "id": "J_JYeoJ7k8Tq"
      },
      "execution_count": null,
      "outputs": [],
      "id": "J_JYeoJ7k8Tq"
    },
    {
      "cell_type": "code",
      "execution_count": null,
      "id": "c1f3981c",
      "metadata": {
        "id": "c1f3981c"
      },
      "outputs": [],
      "source": [
        "################################## Cow Face Segmentation Above ######################### "
      ]
    },
    {
      "cell_type": "code",
      "execution_count": null,
      "id": "87528440",
      "metadata": {
        "id": "87528440"
      },
      "outputs": [],
      "source": [
        "################################## Cow Face Identification below ######################### "
      ]
    },
    {
      "cell_type": "code",
      "execution_count": null,
      "id": "dddc8bee",
      "metadata": {
        "id": "dddc8bee"
      },
      "outputs": [],
      "source": [
        "from keras.preprocessing.image import ImageDataGenerator"
      ]
    },
    {
      "cell_type": "code",
      "execution_count": null,
      "id": "7de8412a",
      "metadata": {
        "id": "7de8412a"
      },
      "outputs": [],
      "source": [
        "image_gen = ImageDataGenerator(rotation_range=30,\n",
        "                               width_shift_range=0.1,\n",
        "                               height_shift_range=0.1,\n",
        "                               rescale=1/255,\n",
        "                               shear_range=0.2,\n",
        "                               zoom_range=0.2,\n",
        "                               horizontal_flip=True,\n",
        "                               fill_mode=\"nearest\"                                \n",
        "                                )"
      ]
    },
    {
      "cell_type": "code",
      "execution_count": null,
      "id": "f18e2036",
      "metadata": {
        "id": "f18e2036"
      },
      "outputs": [],
      "source": [
        "#image_gen.flow_from_directory(\"DATA/train/\")"
      ]
    },
    {
      "cell_type": "markdown",
      "source": [
        "Creating the Siamese Neural Network "
      ],
      "metadata": {
        "id": "TTZ-qIrvZAYV"
      },
      "id": "TTZ-qIrvZAYV"
    },
    {
      "cell_type": "code",
      "source": [
        "from keras.layers import Input, Conv2D, MaxPooling2D, Flatten, Dense, Lambda\n",
        "from keras.models import Model\n",
        "import keras.backend as K\n",
        "from keras.optimizers import RMSprop\n",
        "from keras.losses import binary_crossentropy\n",
        "from keras.utils import plot_model\n",
        "import numpy as np\n",
        "import os\n",
        "\n",
        "#Resten model\n",
        "\n",
        "# root directory \n",
        "root_dir = \"/content/drive/MyDrive/DATA/train\"\n",
        "\n",
        "# Define input shape of the images\n",
        "input_shape = (224, 224, 3)\n",
        "\n",
        "# Define the base network (shared weights)\n",
        "#updated\n",
        "def create_base_network(input_shape):\n",
        "    \"\"\"\n",
        "    Base network to be shared (eq. to feature extraction).\n",
        "    \"\"\"\n",
        "    input = Input(shape=input_shape)\n",
        "    x = Conv2D(22, (3, 3), activation='relu')(input)\n",
        "    x = MaxPooling2D(pool_size=(2, 2))(x)\n",
        "    x = Conv2D(64, (3, 3), activation='relu')(x)\n",
        "    x = MaxPooling2D(pool_size=(2, 2))(x)\n",
        "    x = Conv2D(128, (3, 3), activation='relu')(x)\n",
        "    x = MaxPooling2D(pool_size=(2, 2))(x)\n",
        "    x = Flatten()(x)\n",
        "    x = Dense(128, activation='relu')(x)\n",
        "    # Output layer with 22 units and softmax activation\n",
        "    x = Dense(22, activation='softmax',name=\"output_layer\")(x)\n",
        "    model = Model(input, x)\n",
        "    return model\n",
        "\n",
        "def contrastive_loss(y_true, y_pred, margin=1.0):\n",
        "    y_true = K.cast(y_true, 'float32')\n",
        "    y_pred = K.cast(y_pred, 'float32')\n",
        "    \n",
        "    square_pred = K.square(y_pred)\n",
        "    margin_square = K.square(K.maximum(margin - y_pred, 0))\n",
        "    return K.mean(y_true * square_pred + (1 - y_true) * margin_square)\n",
        "\n",
        "\n",
        "\n",
        "# Create the Siamese network\n",
        "base_network = create_base_network(input_shape)\n",
        "input_a = Input(shape=input_shape)\n",
        "input_b = Input(shape=input_shape)\n",
        "processed_a = base_network(input_a)\n",
        "processed_b = base_network(input_b)\n",
        "\n",
        "# Define the custom distance metric\n",
        "def euclidean_distance(vects):\n",
        "    x, y = vects\n",
        "    return K.sqrt(K.sum(K.square(x - y), axis=1, keepdims=True))\n",
        "\n",
        "def eucl_dist_output_shape(shapes):\n",
        "    shape1, shape2 = shapes\n",
        "    return (shape1[0], 1)\n",
        "\n",
        "distance = Lambda(euclidean_distance, output_shape=eucl_dist_output_shape)([processed_a, processed_b])\n",
        "\n",
        "# Define the final model\n",
        "model = Model([input_a, input_b], distance)\n",
        "print(model.get_output_shape_at)\n",
        "print(f\"the second final shape of the model= {model.input_shape}\")\n",
        "\n",
        "rms = RMSprop()\n",
        "model.compile(loss=contrastive_loss, optimizer=rms)\n",
        "\n",
        "print(f\"the after compiling of the model= {model.input_shape}\")\n",
        "\n",
        "#updated version\n",
        "# def create_data(root_dir):\n",
        "#     \"\"\"\n",
        "#     Creates pairs of images and labels from the data.\n",
        "#     \"\"\"\n",
        "#     pairs = []\n",
        "#     labels = []\n",
        "#     subdirs = os.listdir(root_dir)\n",
        "#     for i, subdir in enumerate(subdirs):\n",
        "#         img_paths = [os.path.join(root_dir, subdir, fname) for fname in os.listdir(os.path.join(root_dir, subdir))]\n",
        "#         for j in range(len(img_paths)):\n",
        "#             for k in range(j+1, len(img_paths)):\n",
        "#                 pairs.append([img_paths[j], img_paths[k]])\n",
        "#                 if subdir == subdirs[j]:\n",
        "#                     # if the two images belong to the same cow\n",
        "#                     labels.append(i)\n",
        "#                 else:\n",
        "#                     # if the two images belong to different cows\n",
        "#                     labels.append(0)\n",
        "#     return pairs, labels\n",
        "\n",
        "#after training version\n",
        "def create_data(root_dir):\n",
        "    \"\"\"\n",
        "    Creates pairs of images and labels from the data.\n",
        "    \"\"\"\n",
        "    pairs = []\n",
        "    labels = []\n",
        "    subdirs = os.listdir(root_dir)\n",
        "    for i, subdir in enumerate(subdirs):\n",
        "        img_paths = [os.path.join(root_dir, subdir, fname) for fname in os.listdir(os.path.join(root_dir, subdir))]\n",
        "        for j in range(len(img_paths)):\n",
        "            for k in range(j+1, len(img_paths)):\n",
        "                if os.path.isfile(img_paths[j]) and os.path.isfile(img_paths[k]):\n",
        "                    pairs.append([img_paths[j], img_paths[k]])\n",
        "                    if subdir == subdirs[i]:  # Changed from subdirs[j] to subdirs[i]\n",
        "                        # if the two images belong to the same cow\n",
        "                        labels.append(1)  # Changed from i to 1\n",
        "                    else:\n",
        "                        # if the two images belong to different cows\n",
        "                        labels.append(0)\n",
        "    return pairs, labels\n",
        "\n",
        "# Create the training and validation data\n",
        "train_pairs, train_labels = create_data(root_dir)\n",
        "val_pairs, val_labels = create_data(root_dir)"
      ],
      "metadata": {
        "id": "rQZHNhMAZEfE",
        "colab": {
          "base_uri": "https://localhost:8080/"
        },
        "outputId": "22a6126c-ffe8-4c46-8def-62a2c026600b"
      },
      "id": "rQZHNhMAZEfE",
      "execution_count": null,
      "outputs": [
        {
          "output_type": "stream",
          "name": "stdout",
          "text": [
            "(None, 224, 224, 3)\n",
            "<bound method Layer.get_output_shape_at of <keras.engine.functional.Functional object at 0x7f6bc80d2340>>\n",
            "the second final shape of the model= [(None, 224, 224, 3), (None, 224, 224, 3)]\n",
            "the after compiling of the model= [(None, 224, 224, 3), (None, 224, 224, 3)]\n"
          ]
        }
      ]
    },
    {
      "cell_type": "code",
      "source": [
        "# Define a function to load and preprocess the images\n",
        "\n",
        "#after training \n",
        "def load_and_preprocess_images(image_paths):\n",
        "    images = []\n",
        "    for path in image_paths:\n",
        "        if os.path.isfile(path):\n",
        "            img = load_img(path, target_size=input_shape[:2])\n",
        "            img = img_to_array(img) / 255.\n",
        "            images.append(img)\n",
        "    return np.array(images)\n",
        "\n",
        "#chat gpt-4\n",
        "def generate_batch(data_pairs, data_labels, batch_size):\n",
        "    while True:\n",
        "        indices = np.random.randint(0, len(data_pairs), size=batch_size)\n",
        "        batch_pairs = [data_pairs[i] for i in indices]\n",
        "        batch_labels = [data_labels[i] for i in indices]\n",
        "        x1 = load_and_preprocess_images([pair[0] for pair in batch_pairs])\n",
        "        x2 = load_and_preprocess_images([pair[1] for pair in batch_pairs])\n",
        "\n",
        "        # Ensure batch_size is maintained\n",
        "        if x1.shape[0] == batch_size and x2.shape[0] == batch_size:\n",
        "            yield [x1, x2], np.array(batch_labels)\n"
      ],
      "metadata": {
        "id": "O9_xLu4Og5rk"
      },
      "id": "O9_xLu4Og5rk",
      "execution_count": null,
      "outputs": []
    },
    {
      "cell_type": "code",
      "source": [
        "import tensorflow\n",
        "from tensorflow.keras.utils import load_img, img_to_array\n",
        "#from keras.backend import K\n",
        "from tensorflow.keras import backend as K\n",
        "\n",
        "batch_size = 10\n",
        "epochs = 10\n",
        "steps_per_epoch = len(train_pairs) // batch_size\n",
        "validation_steps = len(val_pairs) // batch_size\n",
        "\n",
        "# Compile the model with contrastive loss\n",
        "model.compile(loss=contrastive_loss, optimizer='adam')\n",
        "train_batches = generate_batch(train_pairs, train_labels, batch_size)\n",
        "\n",
        "# Train the model\n",
        "model.fit(train_batches,steps_per_epoch=steps_per_epoch,\n",
        "          epochs=epochs,\n",
        "          validation_data=generate_batch(val_pairs, val_labels, batch_size),\n",
        "          validation_steps=validation_steps)\n",
        "\n",
        "# Save the model\n",
        "model.save(\"/content/drive/MyDrive/DATA/cow_facial_recognition_model_second.h5\")\n"
      ],
      "metadata": {
        "id": "rUXdTB8wgqxb"
      },
      "id": "rUXdTB8wgqxb",
      "execution_count": null,
      "outputs": []
    },
    {
      "cell_type": "code",
      "source": [
        "#Evaluate the model on some test data\n",
        "test_pairs, test_labels = create_data(\"/content/drive/MyDrive/DATA/test\")\n",
        "\n",
        "x1_test = load_and_preprocess_images([pair[0] for pair in test_pairs])\n",
        "x2_test = load_and_preprocess_images([pair[1] for pair in test_pairs])\n",
        "\n",
        "preds = model.predict([x1_test, x2_test])\n",
        "acc = np.mean(np.round(preds) == test_labels)\n",
        "print(f\"Accuracy on test data: {acc}\")\n"
      ],
      "metadata": {
        "id": "4NY6n_EggpA6",
        "colab": {
          "base_uri": "https://localhost:8080/"
        },
        "outputId": "1f865763-b2d0-4b41-8a75-8de4ed52eb4b"
      },
      "id": "4NY6n_EggpA6",
      "execution_count": null,
      "outputs": [
        {
          "output_type": "stream",
          "name": "stdout",
          "text": [
            "31/31 [==============================] - 6s 179ms/step\n",
            "Accuracy on test data: 0.0\n"
          ]
        }
      ]
    },
    {
      "cell_type": "markdown",
      "source": [
        "Showing the results of the model"
      ],
      "metadata": {
        "id": "rv_q4JJfpXWo"
      },
      "id": "rv_q4JJfpXWo"
    },
    {
      "cell_type": "markdown",
      "source": [
        "Check it agaist new images \n"
      ],
      "metadata": {
        "id": "NvoGkW-KwLNI"
      },
      "id": "NvoGkW-KwLNI"
    },
    {
      "cell_type": "code",
      "source": [
        "# extract function\n",
        "def extract_features(model, image):\n",
        "    base_network = model.layers[2]\n",
        "    feature_extractor = Model(inputs=base_network.input, outputs=base_network.output)\n",
        "    features = feature_extractor.predict(np.expand_dims(image, axis=0))\n",
        "    return features"
      ],
      "metadata": {
        "id": "jK8ZVZLnwgXP"
      },
      "id": "jK8ZVZLnwgXP",
      "execution_count": null,
      "outputs": []
    },
    {
      "cell_type": "code",
      "source": [
        "# Load the images and their corresponding cow IDs from the training dataset. We will use these images to compare against the new image:\n",
        "def load_training_data(root_dir):\n",
        "    image_list = []\n",
        "    cow_ids = []\n",
        "\n",
        "    subdirs = os.listdir(root_dir)\n",
        "    for cow_id, subdir in enumerate(subdirs):\n",
        "        img_paths = [os.path.join(root_dir, subdir, fname) for fname in os.listdir(os.path.join(root_dir, subdir))]\n",
        "        for img_path in img_paths:\n",
        "            if os.path.isfile(img_path):\n",
        "                img = load_img(img_path, target_size=input_shape[:2])\n",
        "                img = img_to_array(img) / 255.\n",
        "                image_list.append(img)\n",
        "                cow_ids.append(cow_id)\n",
        "\n",
        "    return np.array(image_list), np.array(cow_ids)\n",
        "\n",
        "training_images, cow_ids = load_training_data(root_dir)"
      ],
      "metadata": {
        "id": "6a_VBeY4wRH4"
      },
      "id": "6a_VBeY4wRH4",
      "execution_count": null,
      "outputs": []
    },
    {
      "cell_type": "code",
      "source": [
        "# infer function\n",
        "def infer_cow_id(model, new_image, training_images, cow_ids):\n",
        "    new_image_features = extract_features(model, new_image)\n",
        "\n",
        "    distances = []\n",
        "\n",
        "    for img in training_images:\n",
        "        img_features = extract_features(model, img)\n",
        "        distance = np.linalg.norm(new_image_features - img_features)\n",
        "        distances.append(distance)\n",
        "\n",
        "    distances = np.array(distances)\n",
        "    predicted_cow_id = cow_ids[np.argmin(distances)]\n",
        "    return predicted_cow_id\n"
      ],
      "metadata": {
        "id": "kev06AI6wotL"
      },
      "id": "kev06AI6wotL",
      "execution_count": null,
      "outputs": []
    },
    {
      "cell_type": "code",
      "source": [
        "# loading the new image\n",
        "new_image_path = \"/content/drive/MyDrive/DATA/test/c4/c4_8.jpg\"\n",
        "new_image = load_img(new_image_path, target_size=input_shape[:2])\n",
        "new_image = img_to_array(new_image) / 255.\n",
        "\n",
        "# loading the model\n",
        "model_path = \"/content/drive/MyDrive/DATA/cow_facial_recognition_model.h5\"\n",
        "model = load_model(model_path, compile=False, custom_objects={'contrastive_loss': contrastive_loss})\n",
        "\n",
        "\n",
        "predicted_cow_id = infer_cow_id(model, new_image, training_images, cow_ids)\n",
        "print(f\"Predicted cow ID: {predicted_cow_id}\")\n"
      ],
      "metadata": {
        "id": "9qr_hiNcwtlW"
      },
      "id": "9qr_hiNcwtlW",
      "execution_count": null,
      "outputs": []
    },
    {
      "cell_type": "markdown",
      "source": [
        "Using the ResNet Pretrained model"
      ],
      "metadata": {
        "id": "yTe3QB3s00Ez"
      },
      "id": "yTe3QB3s00Ez"
    },
    {
      "cell_type": "code",
      "source": [
        "# Creating validation directory \n",
        "import os\n",
        "import shutil\n",
        "import random\n",
        "\n",
        "def create_validation_directory(original_dir, validation_dir, split_ratio=0.10):\n",
        "    if not os.path.exists(validation_dir):\n",
        "        os.makedirs(validation_dir)\n",
        "\n",
        "    for subdir, dirs, files in os.walk(original_dir):\n",
        "        subdir_name = os.path.basename(subdir)\n",
        "        if not subdir_name.startswith(\"cow\"):\n",
        "            continue\n",
        "\n",
        "        subdir_validation_path = os.path.join(validation_dir, subdir_name)\n",
        "        if not os.path.exists(subdir_validation_path):\n",
        "            os.makedirs(subdir_validation_path)\n",
        "\n",
        "        image_files = [file for file in files if file.lower().endswith(('.png', '.jpg', '.jpeg'))]\n",
        "        random.shuffle(image_files)\n",
        "        validation_files_count = int(len(image_files) * split_ratio)\n",
        "\n",
        "        for i in range(validation_files_count):\n",
        "            src = os.path.join(subdir, image_files[i])\n",
        "            dst = os.path.join(subdir_validation_path, image_files[i])\n",
        "            shutil.move(src, dst)\n",
        "\n",
        "original_dir = \"/content/drive/MyDrive/DATA/train\"\n",
        "validation_dir = \"/content/drive/MyDrive/DATA\"\n",
        "create_validation_directory(original_dir, validation_dir)\n"
      ],
      "metadata": {
        "id": "N6HVugfu07Qr"
      },
      "id": "N6HVugfu07Qr",
      "execution_count": null,
      "outputs": []
    },
    {
      "cell_type": "markdown",
      "source": [
        "Using the Pretrained model"
      ],
      "metadata": {
        "id": "P-GZLbe53u9Z"
      },
      "id": "P-GZLbe53u9Z"
    },
    {
      "cell_type": "code",
      "source": [
        "import os\n",
        "import numpy as np\n",
        "import tensorflow as tf\n",
        "from tensorflow.keras.applications import ResNet50\n",
        "from tensorflow.keras.layers import GlobalAveragePooling2D, Dense, Dropout\n",
        "from tensorflow.keras.models import Model, Sequential\n",
        "from tensorflow.keras.optimizers import Adam\n",
        "from tensorflow.keras.preprocessing.image import ImageDataGenerator\n",
        "\n",
        "# Step 1: Prepare your dataset\n",
        "train_dir = \"/content/drive/MyDrive/DATA/train\"\n",
        "validation_dir = \"/content/drive/MyDrive/DATA/validation\"\n",
        "test_dir = \"/content/drive/MyDrive/DATA/test\"\n",
        "\n",
        "img_height, img_width = 224, 224\n",
        "batch_size = 1\n",
        "\n",
        "train_datagen = ImageDataGenerator(\n",
        "    rescale=1./255,\n",
        "    rotation_range=20,\n",
        "    width_shift_range=0.2,\n",
        "    height_shift_range=0.2,\n",
        "    shear_range=0.2,\n",
        "    zoom_range=0.2,\n",
        "    horizontal_flip=True,\n",
        "    fill_mode='nearest'\n",
        ")\n",
        "\n",
        "validation_datagen = ImageDataGenerator(rescale=1./255)\n",
        "\n",
        "train_generator = train_datagen.flow_from_directory(\n",
        "    train_dir,\n",
        "    target_size=(img_height, img_width),\n",
        "    batch_size=batch_size,\n",
        "    class_mode='categorical'\n",
        ")\n",
        "\n",
        "validation_generator = validation_datagen.flow_from_directory(\n",
        "    validation_dir,\n",
        "    target_size=(img_height, img_width),\n",
        "    batch_size=batch_size,\n",
        "    class_mode='categorical'\n",
        ")\n",
        "\n",
        "num_classes = len(train_generator.class_indices)"
      ],
      "metadata": {
        "id": "RZoV6LyA7muX",
        "colab": {
          "base_uri": "https://localhost:8080/"
        },
        "outputId": "ccf9e679-b17c-4f8d-b3a0-32793caef7d4"
      },
      "id": "RZoV6LyA7muX",
      "execution_count": 70,
      "outputs": [
        {
          "output_type": "stream",
          "name": "stdout",
          "text": [
            "Found 373 images belonging to 22 classes.\n",
            "Found 30 images belonging to 22 classes.\n"
          ]
        }
      ]
    },
    {
      "cell_type": "code",
      "source": [
        "resnet_model = Sequential()\n",
        "pretrained_model= tf.keras.applications.ResNet50(include_top=False,\n",
        "                   input_shape=(224,224,3),\n",
        "                   pooling='avg',classes=5,\n",
        "                   weights='imagenet')\n",
        "for layer in pretrained_model.layers:\n",
        "        layer.trainable=False\n",
        "\n",
        "resnet_model.add(pretrained_model)\n",
        "resnet_model.add(Flatten())\n",
        "resnet_model.add(Dense(512, activation='relu'))\n",
        "resnet_model.add(Dense(num_classes, activation='softmax'))\n",
        "\n",
        "resnet_model.compile(optimizer=Adam(learning_rate=0.001), loss='categorical_crossentropy', metrics=['accuracy'])"
      ],
      "metadata": {
        "id": "zeto_NVdPm0F"
      },
      "id": "zeto_NVdPm0F",
      "execution_count": 71,
      "outputs": []
    },
    {
      "cell_type": "code",
      "source": [
        "resnet_model.summary()"
      ],
      "metadata": {
        "colab": {
          "base_uri": "https://localhost:8080/"
        },
        "id": "vQkmTYnbPDPG",
        "outputId": "31516dc6-aee3-4f72-b210-f640552d63a4"
      },
      "id": "vQkmTYnbPDPG",
      "execution_count": 72,
      "outputs": [
        {
          "output_type": "stream",
          "name": "stdout",
          "text": [
            "Model: \"sequential_7\"\n",
            "_________________________________________________________________\n",
            " Layer (type)                Output Shape              Param #   \n",
            "=================================================================\n",
            " resnet50 (Functional)       (None, 2048)              23587712  \n",
            "                                                                 \n",
            " flatten_14 (Flatten)        (None, 2048)              0         \n",
            "                                                                 \n",
            " dense_37 (Dense)            (None, 512)               1049088   \n",
            "                                                                 \n",
            " dense_38 (Dense)            (None, 22)                11286     \n",
            "                                                                 \n",
            "=================================================================\n",
            "Total params: 24,648,086\n",
            "Trainable params: 1,060,374\n",
            "Non-trainable params: 23,587,712\n",
            "_________________________________________________________________\n"
          ]
        }
      ]
    },
    {
      "cell_type": "markdown",
      "source": [
        "epochs = 10\n",
        "\n",
        "history = resnet_model.fit(\n",
        "    train_generator,\n",
        "    epochs=epochs,\n",
        "    validation_data=validation_generator,\n",
        "    verbose=1\n",
        ")"
      ],
      "metadata": {
        "id": "baItwj1zOrtR"
      },
      "id": "baItwj1zOrtR"
    },
    {
      "cell_type": "code",
      "source": [
        "resnet_model.compile(optimizer=Adam(learning_rate=0.001),loss='categorical_crossentropy',metrics=['accuracy'])"
      ],
      "metadata": {
        "id": "XefM8I3cRMtF"
      },
      "id": "XefM8I3cRMtF",
      "execution_count": 73,
      "outputs": []
    },
    {
      "cell_type": "code",
      "source": [
        "epochs=10\n",
        "\n",
        "history = resnet_model.fit(\n",
        "    train_generator,\n",
        "    epochs=epochs,\n",
        "    validation_data=validation_generator\n",
        ")"
      ],
      "metadata": {
        "colab": {
          "base_uri": "https://localhost:8080/"
        },
        "id": "rmqfWEWkRwIj",
        "outputId": "c9a1122f-2039-40f9-ce89-e14598865dda"
      },
      "id": "rmqfWEWkRwIj",
      "execution_count": 74,
      "outputs": [
        {
          "output_type": "stream",
          "name": "stdout",
          "text": [
            "Epoch 1/10\n",
            "373/373 [==============================] - 33s 77ms/step - loss: 3.2396 - accuracy: 0.0375 - val_loss: 3.0854 - val_accuracy: 0.0667\n",
            "Epoch 2/10\n",
            "373/373 [==============================] - 30s 81ms/step - loss: 3.0968 - accuracy: 0.0295 - val_loss: 3.0896 - val_accuracy: 0.0667\n",
            "Epoch 3/10\n",
            "373/373 [==============================] - 30s 80ms/step - loss: 3.0918 - accuracy: 0.0295 - val_loss: 3.0882 - val_accuracy: 0.0667\n",
            "Epoch 4/10\n",
            "373/373 [==============================] - 30s 80ms/step - loss: 3.0936 - accuracy: 0.0241 - val_loss: 3.0872 - val_accuracy: 0.0667\n",
            "Epoch 5/10\n",
            "373/373 [==============================] - 30s 80ms/step - loss: 3.0910 - accuracy: 0.0241 - val_loss: 3.0866 - val_accuracy: 0.0333\n",
            "Epoch 6/10\n",
            "373/373 [==============================] - 30s 81ms/step - loss: 3.0927 - accuracy: 0.0214 - val_loss: 3.0858 - val_accuracy: 0.0667\n",
            "Epoch 7/10\n",
            "373/373 [==============================] - 29s 79ms/step - loss: 3.0903 - accuracy: 0.0322 - val_loss: 3.0851 - val_accuracy: 0.0333\n",
            "Epoch 8/10\n",
            "373/373 [==============================] - 28s 76ms/step - loss: 3.0905 - accuracy: 0.0241 - val_loss: 3.0843 - val_accuracy: 0.0333\n",
            "Epoch 9/10\n",
            "373/373 [==============================] - 28s 74ms/step - loss: 3.0898 - accuracy: 0.0268 - val_loss: 3.0838 - val_accuracy: 0.0667\n",
            "Epoch 10/10\n",
            "373/373 [==============================] - 28s 76ms/step - loss: 3.0895 - accuracy: 0.0134 - val_loss: 3.0833 - val_accuracy: 0.0667\n"
          ]
        }
      ]
    },
    {
      "cell_type": "code",
      "source": [
        "\n",
        "# Optional: Unfreeze some layers and fine-tune the model further\n",
        "# for layer in resnet_model.layers[:143]:\n",
        "#     layer.trainable = False\n",
        "# for layer in resnet_model.layers[143:]:\n",
        "#     layer.trainable = True\n",
        "\n",
        "# resnet_model.compile(optimizer=Adam(learning_rate=0.0001), loss='categorical_crossentropy', metrics=['accuracy'])\n",
        "\n",
        "# fine_tune_epochs = 10\n",
        "# total_epochs = epochs + fine_tune_epochs\n",
        "\n",
        "# history_fine_tune = resnet_model.fit(\n",
        "#     train_generator,\n",
        "#     initial_epoch=history.epoch[-1],\n",
        "#     epochs=total_epochs,\n",
        "#     validation_data=validation_generator\n",
        "# )"
      ],
      "metadata": {
        "id": "uvKurnMFOseE"
      },
      "id": "uvKurnMFOseE",
      "execution_count": null,
      "outputs": []
    },
    {
      "cell_type": "code",
      "source": [
        "# Step 4: Evaluate the model\n",
        "test_datagen = ImageDataGenerator(rescale=1./255)\n",
        "test_generator = test_datagen.flow_from_directory(\n",
        "    test_dir,\n",
        "    target_size=(img_height, img_width),\n",
        "    batch_size=batch_size,\n",
        "    class_mode='categorical',\n",
        "    shuffle=False\n",
        ")\n",
        "\n",
        "evaluation = resnet_model.evaluate(test_generator)\n",
        "print(f\"Test loss: {evaluation[0]}, Test accuracy: {evaluation[1]}\")"
      ],
      "metadata": {
        "colab": {
          "base_uri": "https://localhost:8080/"
        },
        "id": "f2z6FIseOsEX",
        "outputId": "b50235f9-e960-47ee-d57c-cad0423d2074"
      },
      "id": "f2z6FIseOsEX",
      "execution_count": 64,
      "outputs": [
        {
          "output_type": "stream",
          "name": "stdout",
          "text": [
            "Found 220 images belonging to 22 classes.\n",
            "220/220 [==============================] - 11s 49ms/step - loss: 2.9789 - accuracy: 0.0682\n",
            "Test loss: 2.9789156913757324, Test accuracy: 0.06818182021379471\n"
          ]
        }
      ]
    },
    {
      "cell_type": "markdown",
      "source": [
        "Visualising the perfomance of model"
      ],
      "metadata": {
        "id": "Fmgr3ZUyGp0S"
      },
      "id": "Fmgr3ZUyGp0S"
    },
    {
      "cell_type": "code",
      "source": [
        "import matplotlib.pyplot as plt\n",
        "\n",
        "def plot_history(history):\n",
        "    # Plot the accuracy\n",
        "    plt.figure()\n",
        "    plt.plot(history.history['accuracy'], label='Train accuracy')\n",
        "    plt.plot(history.history['val_accuracy'], label='Validation accuracy')\n",
        "    plt.title('Model accuracy')\n",
        "    plt.xlabel('Epoch')\n",
        "    plt.ylabel('Accuracy')\n",
        "    plt.legend()\n",
        "    plt.show()\n",
        "\n",
        "    # Plot the loss\n",
        "    plt.figure()\n",
        "    plt.plot(history.history['loss'], label='Train loss')\n",
        "    plt.plot(history.history['val_loss'], label='Validation loss')\n",
        "    plt.title('Model loss')\n",
        "    plt.xlabel('Epoch')\n",
        "    plt.ylabel('Loss')\n",
        "    plt.legend()\n",
        "    plt.show()\n",
        "\n",
        "# Call the plot_history function after training the model\n",
        "# For the initial training phase\n",
        "print(\"Initial training History\")\n",
        "plot_history(history)\n",
        "\n",
        "# For the fine-tuning phase\n",
        "print(\"fine-tuning phase History\")\n",
        "plot_history(history_fine_tune)\n"
      ],
      "metadata": {
        "colab": {
          "base_uri": "https://localhost:8080/",
          "height": 1000
        },
        "id": "SKPWTMwkGon2",
        "outputId": "c4b2a6f0-c614-43f1-bc8f-5b0133f077bc"
      },
      "id": "SKPWTMwkGon2",
      "execution_count": 65,
      "outputs": [
        {
          "output_type": "stream",
          "name": "stdout",
          "text": [
            "Initial training History\n"
          ]
        },
        {
          "output_type": "display_data",
          "data": {
            "text/plain": [
              "<Figure size 432x288 with 1 Axes>"
            ],
            "image/png": "[encoded data removed]"
          },
          "metadata": {
            "needs_background": "light"
          }
        },
        {
          "output_type": "display_data",
          "data": {
            "text/plain": [
              "<Figure size 432x288 with 1 Axes>"
            ],
            "image/png": "[encoded data removed]"
          },
          "metadata": {
            "needs_background": "light"
          }
        },
        {
          "output_type": "stream",
          "name": "stdout",
          "text": [
            "fine-tuning phase History\n"
          ]
        },
        {
          "output_type": "display_data",
          "data": {
            "text/plain": [
              "<Figure size 432x288 with 1 Axes>"
            ],
            "image/png": "[encoded data removed]"
          },
          "metadata": {
            "needs_background": "light"
          }
        },
        {
          "output_type": "display_data",
          "data": {
            "text/plain": [
              "<Figure size 432x288 with 1 Axes>"
            ],
            "image/png": "[encoded data removed]"
          },
          "metadata": {
            "needs_background": "light"
          }
        }
      ]
    },
    {
      "cell_type": "markdown",
      "source": [
        "Inference"
      ],
      "metadata": {
        "id": "XrnR6EMs8RTf"
      },
      "id": "XrnR6EMs8RTf"
    },
    {
      "cell_type": "code",
      "source": [
        "# Predicting on images it has not seen before\n",
        "import numpy as np\n",
        "from tensorflow.keras.preprocessing import image\n",
        "from tensorflow.keras.applications.resnet50 import preprocess_input\n",
        "\n",
        "def preprocess_image(image_path, img_height=224, img_width=224):\n",
        "    img = image.load_img(image_path, target_size=(img_height, img_width))\n",
        "    img_array = image.img_to_array(img)\n",
        "    img_array = np.expand_dims(img_array, axis=0)\n",
        "    img_array = preprocess_input(img_array)\n",
        "    return img_array\n",
        "\n",
        "def recognize_cow(image_path, model, class_indices):\n",
        "    img_array = preprocess_image(image_path)\n",
        "    predictions = resnet_model.predict(img_array)\n",
        "    predicted_class_index = np.argmax(predictions[0])\n",
        "\n",
        "    for cow_id, idx in class_indices.items():\n",
        "        if idx == predicted_class_index:\n",
        "            return cow_id\n",
        "\n",
        "    return None\n",
        "\n",
        "image_path = \"/content/drive/MyDrive/DATA/test/c9/c9_9.jpg\"\n",
        "class_indices = train_generator.class_indices\n",
        "recognized_cow_id = recognize_cow(image_path, resnet_model, class_indices)\n",
        "print(f\"Recognized cow ID: {recognized_cow_id}\")\n"
      ],
      "metadata": {
        "id": "BA2HwVuO8VLj",
        "colab": {
          "base_uri": "https://localhost:8080/"
        },
        "outputId": "e5a9e6ca-06b3-438d-e35a-03c83c212ede"
      },
      "id": "BA2HwVuO8VLj",
      "execution_count": 66,
      "outputs": [
        {
          "output_type": "stream",
          "name": "stderr",
          "text": [
            "WARNING:tensorflow:5 out of the last 8 calls to <function Model.make_predict_function.<locals>.predict_function at 0x7f2a581fc430> triggered tf.function retracing. Tracing is expensive and the excessive number of tracings could be due to (1) creating @tf.function repeatedly in a loop, (2) passing tensors with different shapes, (3) passing Python objects instead of tensors. For (1), please define your @tf.function outside of the loop. For (2), @tf.function has reduce_retracing=True option that can avoid unnecessary retracing. For (3), please refer to https://www.tensorflow.org/guide/function#controlling_retracing and https://www.tensorflow.org/api_docs/python/tf/function for  more details.\n"
          ]
        },
        {
          "output_type": "stream",
          "name": "stdout",
          "text": [
            "1/1 [==============================] - 1s 1s/step\n",
            "Recognized cow ID: cow4\n"
          ]
        }
      ]
    },
    {
      "cell_type": "markdown",
      "source": [
        "Now using Vgg Model"
      ],
      "metadata": {
        "id": "jX-1UB16OEyl"
      },
      "id": "jX-1UB16OEyl"
    },
    {
      "cell_type": "code",
      "source": [
        "from keras.layers import Input, Lambda, Dense, Flatten\n",
        "from keras.models import Model\n",
        "from keras.applications.vgg16 import VGG16\n",
        "from keras.applications.vgg16 import preprocess_input\n",
        "from keras.preprocessing import image\n",
        "from keras.preprocessing.image import ImageDataGenerator\n",
        "from keras.models import Sequential\n",
        "import numpy as np\n",
        "from glob import glob\n",
        "import matplotlib.pyplot as plt\n",
        "\n",
        "# re-size all the images to this\n",
        "IMAGE_SIZE = [224, 224]\n",
        "\n",
        "train_path = '/content/drive/MyDrive/DATA/train'\n",
        "valid_path = '/content/drive/MyDrive/DATA/train/validate'\n",
        "\n",
        "# add preprocessing layer to the front of VGG\n",
        "vgg = VGG16(input_shape=IMAGE_SIZE + [3], weights='imagenet', include_top=False)\n",
        "\n",
        "# don't train existing weights\n",
        "for layer in vgg.layers:\n",
        "  layer.trainable = False\n",
        "  \n",
        "  # useful for getting number of classes\n",
        "folders = glob(train_path)\n",
        "  \n",
        "\n",
        "# our layers - you can add more if you want\n",
        "x = Flatten()(vgg.output)\n",
        "# x = Dense(1000, activation='relu')(x)\n",
        "prediction = Dense(len(folders), activation='softmax')(x)\n",
        "\n",
        "# create a model object\n",
        "model = Model(inputs=vgg.input, outputs=prediction)\n",
        "\n",
        "# view the structure of the model\n",
        "model.summary()\n",
        "\n",
        "# tell the model what cost and optimization method to use\n",
        "model.compile(\n",
        "  loss='categorical_crossentropy',\n",
        "  optimizer='adam',\n",
        "  metrics=['accuracy']\n",
        ")"
      ],
      "metadata": {
        "colab": {
          "base_uri": "https://localhost:8080/"
        },
        "id": "y4qxHgQwOJCK",
        "outputId": "c99d5b35-b7c1-4221-c783-9ca4ef0dfe19"
      },
      "id": "y4qxHgQwOJCK",
      "execution_count": 67,
      "outputs": [
        {
          "output_type": "stream",
          "name": "stdout",
          "text": [
            "Model: \"model_13\"\n",
            "_________________________________________________________________\n",
            " Layer (type)                Output Shape              Param #   \n",
            "=================================================================\n",
            " input_23 (InputLayer)       [(None, 224, 224, 3)]     0         \n",
            "                                                                 \n",
            " block1_conv1 (Conv2D)       (None, 224, 224, 64)      1792      \n",
            "                                                                 \n",
            " block1_conv2 (Conv2D)       (None, 224, 224, 64)      36928     \n",
            "                                                                 \n",
            " block1_pool (MaxPooling2D)  (None, 112, 112, 64)      0         \n",
            "                                                                 \n",
            " block2_conv1 (Conv2D)       (None, 112, 112, 128)     73856     \n",
            "                                                                 \n",
            " block2_conv2 (Conv2D)       (None, 112, 112, 128)     147584    \n",
            "                                                                 \n",
            " block2_pool (MaxPooling2D)  (None, 56, 56, 128)       0         \n",
            "                                                                 \n",
            " block3_conv1 (Conv2D)       (None, 56, 56, 256)       295168    \n",
            "                                                                 \n",
            " block3_conv2 (Conv2D)       (None, 56, 56, 256)       590080    \n",
            "                                                                 \n",
            " block3_conv3 (Conv2D)       (None, 56, 56, 256)       590080    \n",
            "                                                                 \n",
            " block3_pool (MaxPooling2D)  (None, 28, 28, 256)       0         \n",
            "                                                                 \n",
            " block4_conv1 (Conv2D)       (None, 28, 28, 512)       1180160   \n",
            "                                                                 \n",
            " block4_conv2 (Conv2D)       (None, 28, 28, 512)       2359808   \n",
            "                                                                 \n",
            " block4_conv3 (Conv2D)       (None, 28, 28, 512)       2359808   \n",
            "                                                                 \n",
            " block4_pool (MaxPooling2D)  (None, 14, 14, 512)       0         \n",
            "                                                                 \n",
            " block5_conv1 (Conv2D)       (None, 14, 14, 512)       2359808   \n",
            "                                                                 \n",
            " block5_conv2 (Conv2D)       (None, 14, 14, 512)       2359808   \n",
            "                                                                 \n",
            " block5_conv3 (Conv2D)       (None, 14, 14, 512)       2359808   \n",
            "                                                                 \n",
            " block5_pool (MaxPooling2D)  (None, 7, 7, 512)         0         \n",
            "                                                                 \n",
            " flatten_13 (Flatten)        (None, 25088)             0         \n",
            "                                                                 \n",
            " dense_36 (Dense)            (None, 1)                 25089     \n",
            "                                                                 \n",
            "=================================================================\n",
            "Total params: 14,739,777\n",
            "Trainable params: 25,089\n",
            "Non-trainable params: 14,714,688\n",
            "_________________________________________________________________\n"
          ]
        }
      ]
    },
    {
      "cell_type": "code",
      "source": [
        "from keras.preprocessing.image import ImageDataGenerator\n",
        "\n",
        "train_datagen = ImageDataGenerator(rescale = 1./255,\n",
        "                                   shear_range = 0.2,\n",
        "                                   zoom_range = 0.2,\n",
        "                                   horizontal_flip = True)\n",
        "\n",
        "test_datagen = ImageDataGenerator(rescale = 1./255)\n",
        "\n",
        "training_set = train_datagen.flow_from_directory('/content/drive/MyDrive/DATA/train',\n",
        "                                                 target_size = (224, 224),\n",
        "                                                 batch_size = 32,\n",
        "                                                 class_mode = 'categorical')\n",
        "\n",
        "test_set = test_datagen.flow_from_directory('/content/drive/MyDrive/DATA/test',\n",
        "                                            target_size = (224, 224),\n",
        "                                            batch_size = 32,\n",
        "                                            class_mode = 'categorical')\n",
        "\n",
        "'''r=model.fit_generator(training_set,\n",
        "                         samples_per_epoch = 8000,\n",
        "                         nb_epoch = 5,\n",
        "                         validation_data = test_set,\n",
        "                         nb_val_samples = 2000)'''\n",
        "\n"
      ],
      "metadata": {
        "colab": {
          "base_uri": "https://localhost:8080/",
          "height": 89
        },
        "id": "M9Rjo3D0O-1v",
        "outputId": "ed3a9a82-7ec3-46ce-a736-fe5add3e3348"
      },
      "id": "M9Rjo3D0O-1v",
      "execution_count": 68,
      "outputs": [
        {
          "output_type": "stream",
          "name": "stdout",
          "text": [
            "Found 373 images belonging to 22 classes.\n",
            "Found 220 images belonging to 22 classes.\n"
          ]
        },
        {
          "output_type": "execute_result",
          "data": {
            "text/plain": [
              "'r=model.fit_generator(training_set,\\n                         samples_per_epoch = 8000,\\n                         nb_epoch = 5,\\n                         validation_data = test_set,\\n                         nb_val_samples = 2000)'"
            ],
            "application/vnd.google.colaboratory.intrinsic+json": {
              "type": "string"
            }
          },
          "metadata": {},
          "execution_count": 68
        }
      ]
    },
    {
      "cell_type": "code",
      "source": [
        "# fit the model\n",
        "r = model.fit(\n",
        "  training_set,\n",
        "  validation_data=test_set,\n",
        "  epochs=5,\n",
        "  steps_per_epoch=len(training_set),\n",
        "  validation_steps=len(test_set)\n",
        ")\n",
        "# loss\n",
        "plt.plot(r.history['loss'], label='train loss')\n",
        "plt.plot(r.history['val_loss'], label='val loss')\n",
        "plt.legend()\n",
        "plt.show()\n",
        "plt.savefig('LossVal_loss')\n",
        "\n",
        "# accuracies\n",
        "plt.plot(r.history['acc'], label='train acc')\n",
        "plt.plot(r.history['val_acc'], label='val acc')\n",
        "plt.legend()\n",
        "plt.show()\n",
        "plt.savefig('AccVal_acc')\n",
        "\n",
        "import tensorflow as tf\n",
        "\n",
        "from keras.models import load_model\n",
        "\n",
        "# model.save('facefeatures_new_model.h5')"
      ],
      "metadata": {
        "colab": {
          "base_uri": "https://localhost:8080/",
          "height": 1000
        },
        "id": "jQHxQLU7PB1g",
        "outputId": "1fe81236-2d8a-4222-9ac7-ceff96e0b40e"
      },
      "id": "jQHxQLU7PB1g",
      "execution_count": 69,
      "outputs": [
        {
          "output_type": "stream",
          "name": "stdout",
          "text": [
            "Epoch 1/5\n"
          ]
        },
        {
          "output_type": "error",
          "ename": "InvalidArgumentError",
          "evalue": "ignored",
          "traceback": [
            "\u001b[0;31m---------------------------------------------------------------------------\u001b[0m",
            "\u001b[0;31mInvalidArgumentError\u001b[0m                      Traceback (most recent call last)",
            "\u001b[0;32m<ipython-input-69-069c4d2d92cc>\u001b[0m in \u001b[0;36m<module>\u001b[0;34m\u001b[0m\n\u001b[1;32m      1\u001b[0m \u001b[0;31m# fit the model\u001b[0m\u001b[0;34m\u001b[0m\u001b[0;34m\u001b[0m\u001b[0m\n\u001b[0;32m----> 2\u001b[0;31m r = model.fit(\n\u001b[0m\u001b[1;32m      3\u001b[0m   \u001b[0mtraining_set\u001b[0m\u001b[0;34m,\u001b[0m\u001b[0;34m\u001b[0m\u001b[0;34m\u001b[0m\u001b[0m\n\u001b[1;32m      4\u001b[0m   \u001b[0mvalidation_data\u001b[0m\u001b[0;34m=\u001b[0m\u001b[0mtest_set\u001b[0m\u001b[0;34m,\u001b[0m\u001b[0;34m\u001b[0m\u001b[0;34m\u001b[0m\u001b[0m\n\u001b[1;32m      5\u001b[0m   \u001b[0mepochs\u001b[0m\u001b[0;34m=\u001b[0m\u001b[0;36m5\u001b[0m\u001b[0;34m,\u001b[0m\u001b[0;34m\u001b[0m\u001b[0;34m\u001b[0m\u001b[0m\n",
            "\u001b[0;32m/usr/local/lib/python3.9/dist-packages/keras/utils/traceback_utils.py\u001b[0m in \u001b[0;36merror_handler\u001b[0;34m(*args, **kwargs)\u001b[0m\n\u001b[1;32m     68\u001b[0m             \u001b[0;31m# To get the full stack trace, call:\u001b[0m\u001b[0;34m\u001b[0m\u001b[0;34m\u001b[0m\u001b[0m\n\u001b[1;32m     69\u001b[0m             \u001b[0;31m# `tf.debugging.disable_traceback_filtering()`\u001b[0m\u001b[0;34m\u001b[0m\u001b[0;34m\u001b[0m\u001b[0m\n\u001b[0;32m---> 70\u001b[0;31m             \u001b[0;32mraise\u001b[0m \u001b[0me\u001b[0m\u001b[0;34m.\u001b[0m\u001b[0mwith_traceback\u001b[0m\u001b[0;34m(\u001b[0m\u001b[0mfiltered_tb\u001b[0m\u001b[0;34m)\u001b[0m \u001b[0;32mfrom\u001b[0m \u001b[0;32mNone\u001b[0m\u001b[0;34m\u001b[0m\u001b[0;34m\u001b[0m\u001b[0m\n\u001b[0m\u001b[1;32m     71\u001b[0m         \u001b[0;32mfinally\u001b[0m\u001b[0;34m:\u001b[0m\u001b[0;34m\u001b[0m\u001b[0;34m\u001b[0m\u001b[0m\n\u001b[1;32m     72\u001b[0m             \u001b[0;32mdel\u001b[0m \u001b[0mfiltered_tb\u001b[0m\u001b[0;34m\u001b[0m\u001b[0;34m\u001b[0m\u001b[0m\n",
            "\u001b[0;32m/usr/local/lib/python3.9/dist-packages/tensorflow/python/eager/execute.py\u001b[0m in \u001b[0;36mquick_execute\u001b[0;34m(op_name, num_outputs, inputs, attrs, ctx, name)\u001b[0m\n\u001b[1;32m     50\u001b[0m   \u001b[0;32mtry\u001b[0m\u001b[0;34m:\u001b[0m\u001b[0;34m\u001b[0m\u001b[0;34m\u001b[0m\u001b[0m\n\u001b[1;32m     51\u001b[0m     \u001b[0mctx\u001b[0m\u001b[0;34m.\u001b[0m\u001b[0mensure_initialized\u001b[0m\u001b[0;34m(\u001b[0m\u001b[0;34m)\u001b[0m\u001b[0;34m\u001b[0m\u001b[0;34m\u001b[0m\u001b[0m\n\u001b[0;32m---> 52\u001b[0;31m     tensors = pywrap_tfe.TFE_Py_Execute(ctx._handle, device_name, op_name,\n\u001b[0m\u001b[1;32m     53\u001b[0m                                         inputs, attrs, num_outputs)\n\u001b[1;32m     54\u001b[0m   \u001b[0;32mexcept\u001b[0m \u001b[0mcore\u001b[0m\u001b[0;34m.\u001b[0m\u001b[0m_NotOkStatusException\u001b[0m \u001b[0;32mas\u001b[0m \u001b[0me\u001b[0m\u001b[0;34m:\u001b[0m\u001b[0;34m\u001b[0m\u001b[0;34m\u001b[0m\u001b[0m\n",
            "\u001b[0;31mInvalidArgumentError\u001b[0m: Graph execution error:\n\nDetected at node 'AssignAddVariableOp_4' defined at (most recent call last):\n    File \"/usr/lib/python3.9/runpy.py\", line 197, in _run_module_as_main\n      return _run_code(code, main_globals, None,\n    File \"/usr/lib/python3.9/runpy.py\", line 87, in _run_code\n      exec(code, run_globals)\n    File \"/usr/local/lib/python3.9/dist-packages/ipykernel_launcher.py\", line 16, in <module>\n      app.launch_new_instance()\n    File \"/usr/local/lib/python3.9/dist-packages/traitlets/config/application.py\", line 992, in launch_instance\n      app.start()\n    File \"/usr/local/lib/python3.9/dist-packages/ipykernel/kernelapp.py\", line 612, in start\n      self.io_loop.start()\n    File \"/usr/local/lib/python3.9/dist-packages/tornado/platform/asyncio.py\", line 215, in start\n      self.asyncio_loop.run_forever()\n    File \"/usr/lib/python3.9/asyncio/base_events.py\", line 601, in run_forever\n      self._run_once()\n    File \"/usr/lib/python3.9/asyncio/base_events.py\", line 1905, in _run_once\n      handle._run()\n    File \"/usr/lib/python3.9/asyncio/events.py\", line 80, in _run\n      self._context.run(self._callback, *self._args)\n    File \"/usr/local/lib/python3.9/dist-packages/tornado/ioloop.py\", line 687, in <lambda>\n      lambda f: self._run_callback(functools.partial(callback, future))\n    File \"/usr/local/lib/python3.9/dist-packages/tornado/ioloop.py\", line 740, in _run_callback\n      ret = callback()\n    File \"/usr/local/lib/python3.9/dist-packages/tornado/gen.py\", line 821, in inner\n      self.ctx_run(self.run)\n    File \"/usr/local/lib/python3.9/dist-packages/tornado/gen.py\", line 782, in run\n      yielded = self.gen.send(value)\n    File \"/usr/local/lib/python3.9/dist-packages/ipykernel/kernelbase.py\", line 365, in process_one\n      yield gen.maybe_future(dispatch(*args))\n    File \"/usr/local/lib/python3.9/dist-packages/tornado/gen.py\", line 234, in wrapper\n      yielded = ctx_run(next, result)\n    File \"/usr/local/lib/python3.9/dist-packages/ipykernel/kernelbase.py\", line 268, in dispatch_shell\n      yield gen.maybe_future(handler(stream, idents, msg))\n    File \"/usr/local/lib/python3.9/dist-packages/tornado/gen.py\", line 234, in wrapper\n      yielded = ctx_run(next, result)\n    File \"/usr/local/lib/python3.9/dist-packages/ipykernel/kernelbase.py\", line 543, in execute_request\n      self.do_execute(\n    File \"/usr/local/lib/python3.9/dist-packages/tornado/gen.py\", line 234, in wrapper\n      yielded = ctx_run(next, result)\n    File \"/usr/local/lib/python3.9/dist-packages/ipykernel/ipkernel.py\", line 306, in do_execute\n      res = shell.run_cell(code, store_history=store_history, silent=silent)\n    File \"/usr/local/lib/python3.9/dist-packages/ipykernel/zmqshell.py\", line 536, in run_cell\n      return super(ZMQInteractiveShell, self).run_cell(*args, **kwargs)\n    File \"/usr/local/lib/python3.9/dist-packages/IPython/core/interactiveshell.py\", line 2854, in run_cell\n      result = self._run_cell(\n    File \"/usr/local/lib/python3.9/dist-packages/IPython/core/interactiveshell.py\", line 2881, in _run_cell\n      return runner(coro)\n    File \"/usr/local/lib/python3.9/dist-packages/IPython/core/async_helpers.py\", line 68, in _pseudo_sync_runner\n      coro.send(None)\n    File \"/usr/local/lib/python3.9/dist-packages/IPython/core/interactiveshell.py\", line 3057, in run_cell_async\n      has_raised = await self.run_ast_nodes(code_ast.body, cell_name,\n    File \"/usr/local/lib/python3.9/dist-packages/IPython/core/interactiveshell.py\", line 3249, in run_ast_nodes\n      if (await self.run_code(code, result,  async_=asy)):\n    File \"/usr/local/lib/python3.9/dist-packages/IPython/core/interactiveshell.py\", line 3326, in run_code\n      exec(code_obj, self.user_global_ns, self.user_ns)\n    File \"<ipython-input-69-069c4d2d92cc>\", line 2, in <module>\n      r = model.fit(\n    File \"/usr/local/lib/python3.9/dist-packages/keras/utils/traceback_utils.py\", line 65, in error_handler\n      return fn(*args, **kwargs)\n    File \"/usr/local/lib/python3.9/dist-packages/keras/engine/training.py\", line 1650, in fit\n      tmp_logs = self.train_function(iterator)\n    File \"/usr/local/lib/python3.9/dist-packages/keras/engine/training.py\", line 1249, in train_function\n      return step_function(self, iterator)\n    File \"/usr/local/lib/python3.9/dist-packages/keras/engine/training.py\", line 1233, in step_function\n      outputs = model.distribute_strategy.run(run_step, args=(data,))\n    File \"/usr/local/lib/python3.9/dist-packages/keras/engine/training.py\", line 1222, in run_step\n      outputs = model.train_step(data)\n    File \"/usr/local/lib/python3.9/dist-packages/keras/engine/training.py\", line 1027, in train_step\n      self.optimizer.minimize(loss, self.trainable_variables, tape=tape)\n    File \"/usr/local/lib/python3.9/dist-packages/keras/optimizers/optimizer_experimental/optimizer.py\", line 527, in minimize\n      self.apply_gradients(grads_and_vars)\n    File \"/usr/local/lib/python3.9/dist-packages/keras/optimizers/optimizer_experimental/optimizer.py\", line 1140, in apply_gradients\n      return super().apply_gradients(grads_and_vars, name=name)\n    File \"/usr/local/lib/python3.9/dist-packages/keras/optimizers/optimizer_experimental/optimizer.py\", line 634, in apply_gradients\n      iteration = self._internal_apply_gradients(grads_and_vars)\n    File \"/usr/local/lib/python3.9/dist-packages/keras/optimizers/optimizer_experimental/optimizer.py\", line 1166, in _internal_apply_gradients\n      return tf.__internal__.distribute.interim.maybe_merge_call(\n    File \"/usr/local/lib/python3.9/dist-packages/keras/optimizers/optimizer_experimental/optimizer.py\", line 1216, in _distributed_apply_gradients_fn\n      distribution.extended.update(\n    File \"/usr/local/lib/python3.9/dist-packages/keras/optimizers/optimizer_experimental/optimizer.py\", line 1213, in apply_grad_to_update_var\n      return self._update_step(grad, var)\n    File \"/usr/local/lib/python3.9/dist-packages/keras/optimizers/optimizer_experimental/optimizer.py\", line 224, in _update_step\n      self.update_step(gradient, variable)\n    File \"/usr/local/lib/python3.9/dist-packages/keras/optimizers/optimizer_experimental/adam.py\", line 194, in update_step\n      m.assign_add((gradient - m) * (1 - self.beta_1))\nNode: 'AssignAddVariableOp_4'\nCannot update variable with shape [1] using a Tensor with shape [22], shapes must be equal.\n\t [[{{node AssignAddVariableOp_4}}]] [Op:__inference_train_function_413025]"
          ]
        }
      ]
    }
  ],
  "metadata": {
    "kernelspec": {
      "display_name": "Python 3 (ipykernel)",
      "language": "python",
      "name": "python3"
    },
    "language_info": {
      "codemirror_mode": {
        "name": "ipython",
        "version": 3
      },
      "file_extension": ".py",
      "mimetype": "text/x-python",
      "name": "python",
      "nbconvert_exporter": "python",
      "pygments_lexer": "ipython3",
      "version": "3.9.12"
    },
    "colab": {
      "provenance": [],
      "machine_shape": "hm",
      "include_colab_link": true
    },
    "gpuClass": "standard",
    "accelerator": "TPU"
  },
  "nbformat": 4,
  "nbformat_minor": 5
}