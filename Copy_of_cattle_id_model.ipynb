{
  "cells": [
    {
      "cell_type": "markdown",
      "metadata": {
        "id": "view-in-github",
        "colab_type": "text"
      },
      "source": [
        "<a href=\"https://colab.research.google.com/github/Mqondisi-Mavuso/cow_facial_recognition/blob/main/Copy_of_cattle_id_model.ipynb\" target=\"_parent\"><img src=\"https://colab.research.google.com/assets/colab-badge.svg\" alt=\"Open In Colab\"/></a>"
      ]
    },
    {
      "cell_type": "code",
      "execution_count": null,
      "id": "c32027f2",
      "metadata": {
        "id": "c32027f2"
      },
      "outputs": [],
      "source": [
        "import cv2\n",
        "import numpy as np\n",
        "import pandas as pd\n",
        "import matplotlib.pyplot as plt\n",
        "import IPython.display as ipd\n",
        "%matplotlib inline"
      ]
    },
    {
      "cell_type": "code",
      "source": [
        "from google.colab import drive\n",
        "drive.mount('/content/drive')"
      ],
      "metadata": {
        "id": "OFfvsTai_i_o"
      },
      "id": "OFfvsTai_i_o",
      "execution_count": null,
      "outputs": []
    },
    {
      "cell_type": "code",
      "source": [
        "import csv\n",
        "import os\n",
        "\n",
        "# Define the directory to search for JPG files\n",
        "directory = \"/content/drive/MyDrive/DATA/train\"\n",
        "\n",
        "# Create a CSV file to write the results to\n",
        "with open(\"labels.csv\", \"w\", newline=\"\") as csvfile:\n",
        "    fieldnames = [\"filename\", \"id\"]\n",
        "    writer = csv.DictWriter(csvfile, fieldnames=fieldnames)\n",
        "    writer.writeheader()\n",
        "\n",
        "    # Loop through all subdirectories in the main directory\n",
        "    for subdir, dirs, files in os.walk(directory):\n",
        "        # Loop through all JPG files in each subdirectory\n",
        "        for file in files:\n",
        "            if file.lower().endswith(\".jpg\"):\n",
        "                # Get the filename and ID\n",
        "                filename = file\n",
        "                id = file[3:file.index(\"_\")]\n",
        "\n",
        "                # Write the filename and ID to the CSV file\n",
        "                writer.writerow({\"filename\": filename, \"id\": id})\n"
      ],
      "metadata": {
        "id": "K4g7sqA0SZfF"
      },
      "id": "K4g7sqA0SZfF",
      "execution_count": null,
      "outputs": []
    },
    {
      "cell_type": "code",
      "source": [
        "import os\n",
        "\n",
        "def rename_images(root_dir):\n",
        "    \"\"\"\n",
        "    Rename every image in every subdirectory using its directory name followed by its unique id.\n",
        "    \"\"\"\n",
        "    # Traverse all directories and files in the root directory\n",
        "    for subdir, dirs, files in os.walk(root_dir):\n",
        "        # For each image file in the current directory\n",
        "        for i, file in enumerate(files):\n",
        "            # Check if the file is an image\n",
        "            if file.endswith(\".jpg\") or file.endswith(\".jpeg\") or file.endswith(\".png\") or file.endswith(\".gif\"):\n",
        "                # Get the directory name and use it as the prefix for the new filename\n",
        "                prefix = os.path.basename(subdir)\n",
        "                # Generate a unique id for the file\n",
        "                unique_id = str(i+1)\n",
        "                # Get the file extension\n",
        "                ext = os.path.splitext(file)[1]\n",
        "                # Generate the new filename\n",
        "                new_filename = prefix + \"_\" + unique_id + ext\n",
        "                # Rename the file\n",
        "                os.rename(os.path.join(subdir, file), os.path.join(subdir, new_filename))\n",
        "\n",
        "# renaming the images \n",
        "root_dir = \"/content/drive/MyDrive/DATA/train\"\n",
        "rename_images(root_dir)\n"
      ],
      "metadata": {
        "id": "N1OEqJkRNyzo"
      },
      "id": "N1OEqJkRNyzo",
      "execution_count": null,
      "outputs": []
    },
    {
      "cell_type": "code",
      "source": [
        "import os\n",
        "import random\n",
        "\n",
        "# Set the path to the directory containing the subdirectories of images\n",
        "parent_directory = \"/content/drive/MyDrive/DATA/train\"\n",
        "\n",
        "# Set the number of images to keep in each subdirectory\n",
        "num_images_to_keep = 20\n",
        "\n",
        "# Loop through each subdirectory in the parent directory\n",
        "for subdir in os.listdir(parent_directory):\n",
        "    subdir_path = os.path.join(parent_directory, subdir)\n",
        "    if os.path.isdir(subdir_path):\n",
        "        # Get a list of all the images in the subdirectory\n",
        "        images = [os.path.join(subdir_path, f) for f in os.listdir(subdir_path) if f.endswith(\".jpg\") or f.endswith(\".png\")]\n",
        "        # If there are more than num_images_to_keep images, randomly select which ones to keep\n",
        "        if len(images) > num_images_to_keep:\n",
        "            images_to_keep = random.sample(images, num_images_to_keep)\n",
        "            # Delete all the images that were not selected to be kept\n",
        "            for image in images:\n",
        "                if image not in images_to_keep:\n",
        "                    os.remove(image)\n"
      ],
      "metadata": {
        "id": "xfoyU8C_DoaA"
      },
      "id": "xfoyU8C_DoaA",
      "execution_count": null,
      "outputs": []
    },
    {
      "cell_type": "code",
      "source": [
        "# import the videos to read each frame \n",
        "cap = cv2.VideoCapture(\"DATA/test/c22/IMG_3751.MOV\")"
      ],
      "metadata": {
        "id": "05yMu-0K_DSQ"
      },
      "id": "05yMu-0K_DSQ",
      "execution_count": null,
      "outputs": []
    },
    {
      "cell_type": "code",
      "source": [
        "# total number of frames\n",
        "num_frame = int(cap.get(cv2.CAP_PROP_FRAME_COUNT))"
      ],
      "metadata": {
        "id": "dTHNhzKA_J-B"
      },
      "id": "dTHNhzKA_J-B",
      "execution_count": null,
      "outputs": []
    },
    {
      "cell_type": "code",
      "source": [
        "#getting the frames from each video\n",
        "def get_frames(num_frame):\n",
        "    for frame in range(num_frame//2):\n",
        "        ret, img = cap.read()\n",
        "        # this rotates the image before writing to file\n",
        "        rotated_img = cv2.rotate(img, cv2.ROTATE_180)        \n",
        "        if ret == False:\n",
        "            break\n",
        "        else:\n",
        "            path = r\"DATA/test/c22\"\n",
        "            name = f'/b_c{frame + 1}.jpg' \n",
        "            # write the file\n",
        "            cv2.imwrite(f'{path}{name}', rotated_img)"
      ],
      "metadata": {
        "id": "OV0ZdvW1-0ua"
      },
      "id": "OV0ZdvW1-0ua",
      "execution_count": null,
      "outputs": []
    },
    {
      "cell_type": "code",
      "source": [
        "# this call will write the images to our training folder \n",
        "get_frames(num_frame=num_frame)\n",
        "cap.release()"
      ],
      "metadata": {
        "id": "2qOLQ_1y_jrG"
      },
      "id": "2qOLQ_1y_jrG",
      "execution_count": null,
      "outputs": []
    },
    {
      "cell_type": "code",
      "source": [
        "#!pip install tensorflow-gpu"
      ],
      "metadata": {
        "id": "jRa5tqGfDiaj"
      },
      "id": "jRa5tqGfDiaj",
      "execution_count": null,
      "outputs": []
    },
    {
      "cell_type": "code",
      "execution_count": null,
      "id": "eb9d6e40",
      "metadata": {
        "id": "eb9d6e40"
      },
      "outputs": [],
      "source": [
        "# This is for downloading the YOLOv8 cow face images and labels\n",
        "# !pip install roboflow\n",
        "\n",
        "# from roboflow import Roboflow\n",
        "# rf = Roboflow(api_key=\"my_api_here\")                    \n",
        "# project = rf.workspace(\"face-cow\").project(\"thecowface\")\n",
        "# dataset = project.version(1).download(\"yolov8\")\n",
        "\n",
        "#!pip install roboflow\n",
        "\n",
        "# from roboflow import Roboflow\n",
        "# rf = Roboflow(api_key=\"GzhyGHnKKy58hjhTCDdG\")\n",
        "# project = rf.workspace(\"cowseg\").project(\"thecowface-tj1no\")\n",
        "# dataset = project.version(1).download(\"coco-segmentation\")\n"
      ]
    },
    {
      "cell_type": "code",
      "execution_count": null,
      "id": "72f8b89b",
      "metadata": {
        "id": "72f8b89b"
      },
      "outputs": [],
      "source": [
        "#training the model to segment the cow face using custom dataset \n",
        "%pip install ultralytics\n",
        "from ultralytics import YOLO\n",
        "\n",
        "model = YOLO(\"/content/drive/MyDrive/Colab_Notebooks/runs/detect/train/weights/best.pt\")\n",
        "# Training the model\n",
        "#!yolo train model=yolov8n-seg.pt data=coco128.yaml epochs=3 imgsz=640\n",
        "#model.train(data=\"/content/drive/MyDrive/cow_id_AI/cow_facial_recognition/Thecowface-1/data.yaml\", epochs=100)"
      ]
    },
    {
      "cell_type": "code",
      "source": [
        "def show_img(image_path):\n",
        "  img = cv2.imread(image_path)\n",
        "  fig, ax = plt.subplots(figsize=(15,15))\n",
        "  plt.imshow(cv2.cvtColor(img, cv2.COLOR_BGR2RGB))\n",
        "  ax.grid(False)           # remove the grid lines\n",
        "  plt.show()"
      ],
      "metadata": {
        "id": "h1cwoUxUZL5H"
      },
      "id": "h1cwoUxUZL5H",
      "execution_count": null,
      "outputs": []
    },
    {
      "cell_type": "code",
      "source": [
        "# image_path = \"/content/runs/detect/train/val_batch0_pred.jpg\"\n",
        "# show_img(image_path=image_path)"
      ],
      "metadata": {
        "id": "uBIPvc27KKl1"
      },
      "id": "uBIPvc27KKl1",
      "execution_count": null,
      "outputs": []
    },
    {
      "cell_type": "code",
      "source": [
        "# Load the first image\n",
        "confusion_matrix = cv2.imread(\"/content/runs/detect/train/confusion_matrix.png\")\n",
        "\n",
        "# Load the second image\n",
        "results = cv2.imread(\"/content/runs/detect/train/results.png\")\n",
        "\n",
        "# Create a figure with two subplots\n",
        "fig, ax = plt.subplots(1, 2, figsize=(20,20))\n",
        "\n",
        "# Display the first image on the first subplot\n",
        "ax[0].imshow(cv2.cvtColor(confusion_matrix, cv2.COLOR_BGR2RGB))\n",
        "\n",
        "# Display the second image on the second subplot\n",
        "ax[1].imshow(cv2.cvtColor(results, cv2.COLOR_BGR2RGB))\n",
        "\n",
        "ax[0].grid(False)\n",
        "ax[1].grid(False)    \n",
        "\n",
        "# Show the figure\n",
        "plt.show()"
      ],
      "metadata": {
        "id": "lt3y3BMuNkTu"
      },
      "id": "lt3y3BMuNkTu",
      "execution_count": null,
      "outputs": []
    },
    {
      "cell_type": "code",
      "source": [
        "#validate the model on images it has not seen\n",
        "\n",
        "#model = YOLO(\"/content/runs/detect/train2/weights/best.pt\")  # load a custom model\n",
        "\n",
        "# Validate the model\n",
        "#!yolo task=detect mode=val model=\"/content/runs/detect/train2/weights/best.pt\" data=data.yaml\n",
        "#!yolo val model='/content/runs/detect/train2/weights/best.pt data=coco128'\n",
        "\n",
        "# import subprocess\n",
        "\n",
        "# # Set up the command\n",
        "# command = ['yolo', 'task=detect', 'mode=predict', 'model=/content/runs/detect/train/weights/best.pt', 'conf=0.25', 'source=/content/drive/MyDrive/DATA/test/c12/b_c13.jpg', 'save=True']\n",
        "\n",
        "# # Run the command using subprocess\n",
        "# result = subprocess.run(command, stdout=subprocess.PIPE, stderr=subprocess.PIPE, text=True)\n",
        "\n",
        "# # Print the output\n",
        "# print(result.stdout)\n",
        "\n"
      ],
      "metadata": {
        "id": "MBmvZ7cXUlZ6"
      },
      "id": "MBmvZ7cXUlZ6",
      "execution_count": null,
      "outputs": []
    },
    {
      "cell_type": "markdown",
      "source": [
        "This is for saving the cropped facial images after facial detection"
      ],
      "metadata": {
        "id": "oTqs-vsm-WYE"
      },
      "id": "oTqs-vsm-WYE"
    },
    {
      "cell_type": "code",
      "source": [
        "from os import listdir, path\n",
        "import cv2\n",
        "import pandas as pd\n",
        "\n",
        "the_path = \"/content/drive/MyDrive/DATA/train/cow10\"\n",
        "image_filenames = listdir(the_path)\n",
        "\n",
        "for filename in image_filenames:\n",
        "    image_path = path.join(the_path, filename)\n",
        "    image = cv2.imread(image_path)\n",
        "    results = model(image)  # predict on an image\n",
        "    a = results[0].boxes.boxes\n",
        "    px = pd.DataFrame(a).astype(\"float\")\n",
        "\n",
        "    for index, row in px.iterrows():\n",
        "        x1 = int(row[0])\n",
        "        y1 = int(row[1])\n",
        "        x2 = int(row[2])\n",
        "        y2 = int(row[3])\n",
        "        \n",
        "        if (x1 != 0) and (x2 != 0):\n",
        "            # Crop the object from the image\n",
        "            object_image = image[y1:y2, x1:x2]\n",
        "            \n",
        "            # Save the cropped image as a new file in the same directory as the original image\n",
        "            new_filename = f\"{filename[:-4]}_cropped_{index}.jpg\"\n",
        "            cv2.imwrite(path.join(the_path, new_filename), object_image)\n",
        "        else:\n",
        "          continue\n"
      ],
      "metadata": {
        "id": "POVzSze6-orS"
      },
      "id": "POVzSze6-orS",
      "execution_count": null,
      "outputs": []
    },
    {
      "cell_type": "code",
      "source": [
        "# removing the uncropped images\n",
        "import os\n",
        "\n",
        "folder_path = \"/content/drive/MyDrive/DATA/train/c9\"\n",
        "\n",
        "for file_name in os.listdir(folder_path):\n",
        "    if file_name.endswith(\".jpg\") and \"cr\" not in file_name:\n",
        "        os.remove(os.path.join(folder_path, file_name))\n"
      ],
      "metadata": {
        "id": "J_JYeoJ7k8Tq"
      },
      "execution_count": null,
      "outputs": [],
      "id": "J_JYeoJ7k8Tq"
    },
    {
      "cell_type": "code",
      "execution_count": null,
      "id": "c1f3981c",
      "metadata": {
        "id": "c1f3981c"
      },
      "outputs": [],
      "source": [
        "################################## Cow Face Segmentation Above ######################### "
      ]
    },
    {
      "cell_type": "code",
      "execution_count": null,
      "id": "87528440",
      "metadata": {
        "id": "87528440"
      },
      "outputs": [],
      "source": [
        "################################## Cow Face Identification below ######################### "
      ]
    },
    {
      "cell_type": "code",
      "execution_count": null,
      "id": "dddc8bee",
      "metadata": {
        "id": "dddc8bee"
      },
      "outputs": [],
      "source": [
        "from keras.preprocessing.image import ImageDataGenerator"
      ]
    },
    {
      "cell_type": "code",
      "execution_count": null,
      "id": "7de8412a",
      "metadata": {
        "id": "7de8412a"
      },
      "outputs": [],
      "source": [
        "image_gen = ImageDataGenerator(rotation_range=30,\n",
        "                               width_shift_range=0.1,\n",
        "                               height_shift_range=0.1,\n",
        "                               rescale=1/255,\n",
        "                               shear_range=0.2,\n",
        "                               zoom_range=0.2,\n",
        "                               horizontal_flip=True,\n",
        "                               fill_mode=\"nearest\"                                \n",
        "                                )"
      ]
    },
    {
      "cell_type": "code",
      "execution_count": null,
      "id": "f18e2036",
      "metadata": {
        "id": "f18e2036"
      },
      "outputs": [],
      "source": [
        "#image_gen.flow_from_directory(\"DATA/train/\")"
      ]
    },
    {
      "cell_type": "markdown",
      "source": [
        "This is for creating pairs of facial images and their corresponding labels for training and validation in the Siamese Neural Network model for facial recognition"
      ],
      "metadata": {
        "id": "IrWbhoe09Sk9"
      },
      "id": "IrWbhoe09Sk9"
    },
    {
      "cell_type": "code",
      "execution_count": null,
      "id": "c6b6c5d8",
      "metadata": {
        "id": "c6b6c5d8"
      },
      "outputs": [],
      "source": [
        "import os\n",
        "import cv2\n",
        "import numpy as np\n",
        "import pandas as pd\n",
        "\n",
        "# Define the path to your facial images\n",
        "path = \"/content/drive/MyDrive/DATA/train\"\n",
        "\n",
        "# Define the image size and number of samples\n",
        "image_size = (128, 128)\n",
        "num_samples = 1000\n",
        "\n",
        "# Define an empty list to store the pairs and labels\n",
        "pairs = []\n",
        "labels = []\n",
        "\n",
        "# Loop through the number of samples\n",
        "for i in range(num_samples):\n",
        "    # Select a random person\n",
        "    person = np.random.choice(os.listdir(path))\n",
        "\n",
        "    # Get two random images of the same person\n",
        "    images = np.random.choice(os.listdir(os.path.join(path, person)), size=2, replace=False)\n",
        "\n",
        "    # Read and preprocess the images\n",
        "    image1 = cv2.imread(os.path.join(path, person, images[0]))\n",
        "    image1 = cv2.resize(image1, image_size)\n",
        "    image1 = cv2.cvtColor(image1, cv2.COLOR_BGR2RGB)\n",
        "    image1 = image1.astype(\"float32\") / 255.\n",
        "\n",
        "    image2 = cv2.imread(os.path.join(path, person, images[1]))\n",
        "    image2 = cv2.resize(image2, image_size)\n",
        "    image2 = cv2.cvtColor(image2, cv2.COLOR_BGR2RGB)\n",
        "    image2 = image2.astype(\"float32\") / 255.\n",
        "\n",
        "    # Append the positive pair and label to the list\n",
        "    pairs.append([image1, image2])\n",
        "    labels.append(1)\n",
        "\n",
        "    # Get two random images of different people\n",
        "    people = np.random.choice(os.listdir(path), size=2, replace=False)\n",
        "    images = []\n",
        "    images.append(np.random.choice(os.listdir(os.path.join(path, people[0]))))\n",
        "    images.append(np.random.choice(os.listdir(os.path.join(path, people[1]))))\n",
        "\n",
        "    # Read and preprocess the images\n",
        "    image1 = cv2.imread(os.path.join(path, people[0], images[0]))\n",
        "    image1 = cv2.resize(image1, image_size)\n",
        "    image1 = cv2.cvtColor(image1, cv2.COLOR_BGR2RGB)\n",
        "   \n"
      ]
    },
    {
      "cell_type": "markdown",
      "source": [
        "Creating the Siamese Neural Network model"
      ],
      "metadata": {
        "id": "-mKScx46_4lu"
      },
      "id": "-mKScx46_4lu"
    },
    {
      "cell_type": "code",
      "source": [
        "# Define the Siamese neural network model\n",
        "def create_siamese_model():\n",
        "    # Define the input shapes for the image pairs\n",
        "    input_shape = (224, 224, 3)\n",
        "    input_1 = tf.keras.layers.Input(shape=input_shape)\n",
        "    input_2 = tf.keras.layers.Input(shape=input_shape)\n",
        "\n",
        "    # Define the convolutional base using MobileNetV2\n",
        "    base_model = tf.keras.applications.MobileNetV2(weights='imagenet',\n",
        "                                                   include_top=False,\n",
        "                                                   input_shape=input_shape)\n",
        "\n",
        "    # Freeze the convolutional base so that its weights are not updated during training\n",
        "    base_model.trainable = False\n",
        "\n",
        "    # Define the feature extraction layers\n",
        "    x1 = base_model(input_1)\n",
        "    x1 = tf\n",
        "        x1 = tf.keras.layers.GlobalAveragePooling2D()(x1)\n",
        "    \n",
        "    x2 = base_model(input_2)\n",
        "    x2 = tf.keras.layers.GlobalAveragePooling2D()(x2)\n",
        "\n",
        "    # Define the distance metric layer\n",
        "    distance = tf.keras.layers.Lambda(lambda x: tf.keras.backend.abs(x[0] - x[1]))([x1, x2])\n",
        "\n",
        "    # Define the classification layers\n",
        "    fc1 = tf.keras.layers.Dense(512, activation='relu')(distance)\n",
        "    fc2 = tf.keras.layers.Dense(128, activation='relu')(fc1)\n",
        "    output = tf.keras.layers.Dense(len(label_indices), activation='softmax')(fc2)\n",
        "\n",
        "    # Define the Siamese model\n",
        "    model = tf.keras.models.Model(inputs=[input_1, input_2], outputs=output)\n",
        "\n",
        "    # Compile the model\n",
        "    optimizer = tf.keras.optimizers.Adam(lr=0.001)\n",
        "    model.compile(optimizer=optimizer, loss='sparse_categorical_crossentropy', metrics=['accuracy'])\n",
        "\n",
        "    return model"
      ],
      "metadata": {
        "id": "DexYio7O_1ta"
      },
      "id": "DexYio7O_1ta",
      "execution_count": null,
      "outputs": []
    },
    {
      "cell_type": "code",
      "source": [
        "# Create an instance of the Siamese neural network model\n",
        "siamese_model = create_siamese_model()\n",
        "\n",
        "# Train the model\n",
        "siamese_model.fit(train_pairs, train_labels, batch_size=32, epochs=10, validation_data=(val_pairs, val_labels))"
      ],
      "metadata": {
        "id": "6LmY-JfuWwcP"
      },
      "id": "6LmY-JfuWwcP",
      "execution_count": null,
      "outputs": []
    },
    {
      "cell_type": "markdown",
      "source": [
        "Evaluating the model"
      ],
      "metadata": {
        "id": "e0szZ_WKXgbz"
      },
      "id": "e0szZ_WKXgbz"
    },
    {
      "cell_type": "code",
      "execution_count": null,
      "id": "51ab32f9",
      "metadata": {
        "id": "51ab32f9"
      },
      "outputs": [],
      "source": [
        "# Load the test dataset\n",
        "test_pairs, test_labels = create_pairs(test_data, label_indices)\n",
        "\n",
        "# Evaluate the model on the test dataset\n",
        "loss, accuracy = siamese_model.evaluate(test_pairs, test_labels)\n",
        "\n",
        "print('Test loss:', loss)\n",
        "print('Test accuracy:', accuracy)\n"
      ]
    },
    {
      "cell_type": "markdown",
      "source": [
        "Latest SNN"
      ],
      "metadata": {
        "id": "TTZ-qIrvZAYV"
      },
      "id": "TTZ-qIrvZAYV"
    },
    {
      "cell_type": "code",
      "source": [
        "from keras.layers import Input, Conv2D, MaxPooling2D, Flatten, Dense, Lambda\n",
        "from keras.models import Model\n",
        "import keras.backend as K\n",
        "from keras.optimizers import RMSprop\n",
        "from keras.losses import binary_crossentropy\n",
        "from keras.utils import plot_model\n",
        "import numpy as np\n",
        "import os\n",
        "\n",
        "# root directory \n",
        "root_dir = \"/content/drive/MyDrive/DATA/train\"\n",
        "\n",
        "# Define input shape of the images\n",
        "input_shape = (224, 224, 3)\n",
        "\n",
        "# Define the base network (shared weights)\n",
        "# def create_base_network(input_shape):\n",
        "#     \"\"\"\n",
        "#     Base network to be shared (eq. to feature extraction).\n",
        "#     \"\"\"\n",
        "#     input = Input(shape=input_shape)\n",
        "#     x = Conv2D(32, (3, 3), activation='relu')(input)\n",
        "#     x = MaxPooling2D(pool_size=(2, 2))(x)\n",
        "#     x = Conv2D(64, (3, 3), activation='relu')(x)\n",
        "#     x = MaxPooling2D(pool_size=(2, 2))(x)\n",
        "#     x = Conv2D(128, (3, 3), activation='relu')(x)\n",
        "#     x = MaxPooling2D(pool_size=(2, 2))(x)\n",
        "#     x = Conv2D(256, (3, 3), activation='relu')(x)\n",
        "#     x = MaxPooling2D(pool_size=(2, 2))(x)\n",
        "#     x = Flatten()(x)\n",
        "#     x = Dense(1024, activation='relu')(x)\n",
        "#     x = Dense(128, activation='relu')(x)\n",
        "#     # Add the output layer\n",
        "#     # x = Dense(22, activation='softmax',name=\"output_layer\")\n",
        "#     model = Model(input, x)\n",
        "#     return model\n",
        "\n",
        "#updated\n",
        "def create_base_network(input_shape):\n",
        "    \"\"\"\n",
        "    Base network to be shared (eq. to feature extraction).\n",
        "    \"\"\"\n",
        "    input = Input(shape=input_shape)\n",
        "    x = Conv2D(32, (3, 3), activation='relu')(input)\n",
        "    x = MaxPooling2D(pool_size=(2, 2))(x)\n",
        "    x = Conv2D(64, (3, 3), activation='relu')(x)\n",
        "    x = MaxPooling2D(pool_size=(2, 2))(x)\n",
        "    x = Conv2D(128, (3, 3), activation='relu')(x)\n",
        "    x = MaxPooling2D(pool_size=(2, 2))(x)\n",
        "    x = Conv2D(256, (3, 3), activation='relu')(x)\n",
        "    x = MaxPooling2D(pool_size=(2, 2))(x)\n",
        "    x = Flatten()(x)\n",
        "    x = Dense(1024, activation='relu')(x)\n",
        "    x = Dense(128, activation='relu')(x)\n",
        "    # Add the output layer with 22 units and softmax activation\n",
        "    x = Dense(22, activation='softmax',name=\"output_layer\")(x)\n",
        "    model = Model(input, x)\n",
        "    return model\n",
        "\n",
        "def contrastive_loss(y_true, y_pred):\n",
        "    return K.sparse_categorical_crossentropy(y_true, y_pred)\n",
        "\n",
        "# Create the Siamese network\n",
        "base_network = create_base_network(input_shape)\n",
        "input_a = Input(shape=input_shape)\n",
        "input_b = Input(shape=input_shape)\n",
        "processed_a = base_network(input_a)\n",
        "processed_b = base_network(input_b)\n",
        "\n",
        "# Define the custom distance metric\n",
        "def euclidean_distance(vects):\n",
        "    x, y = vects\n",
        "    return K.sqrt(K.sum(K.square(x - y), axis=1, keepdims=True))\n",
        "\n",
        "def eucl_dist_output_shape(shapes):\n",
        "    shape1, shape2 = shapes\n",
        "    return (shape1[0], 1)\n",
        "\n",
        "distance = Lambda(euclidean_distance, output_shape=eucl_dist_output_shape)([processed_a, processed_b])\n",
        "\n",
        "# Define the final model\n",
        "model = Model([input_a, input_b], distance)\n",
        "\n",
        "# Define the loss function and optimizer\n",
        "# def contrastive_loss(y_true, y_pred):\n",
        "#     margin = 1\n",
        "#     return K.mean(y_true * K.square(y_pred) + (1 - y_true) * K.square(K.maximum(margin - y_pred, 0)))\n",
        "\n",
        "#updated loos function\n",
        "# def contrastive_loss(y_true, y_pred):\n",
        "#     margin = 1\n",
        "#     return K.mean(K.cast(y_true, dtype='float32') * K.square(y_pred) + K.cast((1 - y_true), dtype='float32') * K.square(K.maximum(margin - y_pred, 0)))\n",
        "\n",
        "\n",
        "rms = RMSprop()\n",
        "model.compile(loss=contrastive_loss, optimizer=rms)\n",
        "\n",
        "# Define a function to create the training and validation data\n",
        "import os\n",
        "\n",
        "# def create_data(root_dir):\n",
        "#     \"\"\"\n",
        "#     Creates pairs of images and labels from the data.\n",
        "#     \"\"\"\n",
        "#     pairs = []\n",
        "#     labels = []\n",
        "#     subdirs = os.listdir(root_dir)\n",
        "#     for i, subdir in enumerate(subdirs):\n",
        "#         img_paths = [os.path.join(root_dir, subdir, fname) for fname in os.listdir(os.path.join(root_dir, subdir))]\n",
        "#         for j in range(len(img_paths)):\n",
        "#             for k in range(j+1, len(img_paths)):\n",
        "#                 pairs.append([img_paths[j], img_paths[k]])\n",
        "#                 if j == k-1:\n",
        "#                     labels.append(1)\n",
        "#                 else:\n",
        "#                     labels.append(0)\n",
        "#     return pairs, labels\n",
        "\n",
        "#updated version\n",
        "def create_data(root_dir):\n",
        "    \"\"\"\n",
        "    Creates pairs of images and labels from the data.\n",
        "    \"\"\"\n",
        "    pairs = []\n",
        "    labels = []\n",
        "    subdirs = os.listdir(root_dir)\n",
        "    for i, subdir in enumerate(subdirs):\n",
        "        img_paths = [os.path.join(root_dir, subdir, fname) for fname in os.listdir(os.path.join(root_dir, subdir))]\n",
        "        for j in range(len(img_paths)):\n",
        "            for k in range(j+1, len(img_paths)):\n",
        "                pairs.append([img_paths[j], img_paths[k]])\n",
        "                if subdir == subdirs[j]:\n",
        "                    # if the two images belong to the same cow\n",
        "                    labels.append(i)\n",
        "                else:\n",
        "                    # if the two images belong to different cows\n",
        "                    labels.append(0)\n",
        "    return pairs, labels\n",
        "\n",
        "\n",
        "# Create the training and validation data\n",
        "train_pairs, train_labels = create_data(root_dir)\n",
        "val_pairs, val_labels = create_data(root_dir)"
      ],
      "metadata": {
        "id": "rQZHNhMAZEfE"
      },
      "id": "rQZHNhMAZEfE",
      "execution_count": null,
      "outputs": []
    },
    {
      "cell_type": "code",
      "source": [
        "# Define a function to load and preprocess the images\n",
        "def load_and_preprocess_images(image_paths):\n",
        "    images = []\n",
        "    for path in image_paths:\n",
        "        if os.path.isfile(path):\n",
        "            img = load_img(path, target_size=input_shape[:2])\n",
        "            img = img_to_array(img) / 255.\n",
        "            images.append(img)\n",
        "    return np.array(images)\n",
        "\n",
        "\n",
        "#Define a function to generate batches of data\n",
        "def generate_batch(data_pairs, data_labels, batch_size):\n",
        "    while True:\n",
        "        indices = np.random.randint(0, len(data_pairs), size=batch_size)\n",
        "        batch_pairs = [data_pairs[i] for i in indices]\n",
        "        batch_labels = [data_labels[i] for i in indices]\n",
        "        x1 = load_and_preprocess_images([pair[0] for pair in batch_pairs])\n",
        "        x2 = load_and_preprocess_images([pair[1] for pair in batch_pairs])\n",
        "        yield [x1, x2], np.array(batch_labels)"
      ],
      "metadata": {
        "id": "O9_xLu4Og5rk"
      },
      "id": "O9_xLu4Og5rk",
      "execution_count": null,
      "outputs": []
    },
    {
      "cell_type": "code",
      "source": [
        "from tensorflow.keras.utils import load_img, img_to_array\n",
        "#from keras.backend import K\n",
        "from tensorflow.keras import backend as K\n",
        "\n",
        "# #Train the model\n",
        "# batch_size = 32\n",
        "# epochs = 10\n",
        "# steps_per_epoch = len(train_pairs) // batch_size\n",
        "# validation_steps = len(val_pairs) // batch_size\n",
        "# model.fit_generator(generate_batch(train_pairs, train_labels, batch_size),\n",
        "# steps_per_epoch=steps_per_epoch,\n",
        "# epochs=epochs,\n",
        "# validation_data=generate_batch(val_pairs, val_labels, batch_size),\n",
        "# validation_steps=validation_steps)\n",
        "\n",
        "# #Save the model\n",
        "# model.save(\"facial_recognition_cows.h5\")\n",
        "\n",
        "batch_size = 32\n",
        "epochs = 10\n",
        "steps_per_epoch = len(train_pairs) // batch_size\n",
        "validation_steps = len(val_pairs) // batch_size\n",
        "\n",
        "# Define the contrastive loss function\n",
        "# def contrastive_loss(y_true, y_pred):\n",
        "#     margin = 1\n",
        "#     return K.mean(K.cast(y_true, dtype='float32') * K.square(y_pred) + K.cast((1 - y_true), dtype='float32') * K.square(K.maximum(margin - y_pred, 0)))\n",
        "\n",
        "# Compile the model with contrastive loss\n",
        "model.compile(loss=contrastive_loss, optimizer='adam')\n",
        "train_batches = generate_batch(train_pairs, train_labels, batch_size)\n",
        "\n",
        "# Train the model\n",
        "model.fit(train_batches,steps_per_epoch=steps_per_epoch,\n",
        "          epochs=epochs,\n",
        "          validation_data=generate_batch(val_pairs, val_labels, batch_size),\n",
        "          validation_steps=validation_steps)\n",
        "\n",
        "# Save the model\n",
        "model.save(\"/content/drive/MyDrive/DATA/cow_facial_recognition_model.h5\")\n"
      ],
      "metadata": {
        "id": "rUXdTB8wgqxb"
      },
      "id": "rUXdTB8wgqxb",
      "execution_count": null,
      "outputs": []
    },
    {
      "cell_type": "code",
      "source": [
        "#Evaluate the model on some test data\n",
        "test_pairs, test_labels = create_data(\"/content/drive/MyDrive/DATA/test\")\n",
        "\n",
        "x1_test = load_and_preprocess_images([pair[0] for pair in test_pairs])\n",
        "x2_test = load_and_preprocess_images([pair[1] for pair in test_pairs])\n",
        "\n",
        "preds = model.predict([x1_test, x2_test])\n",
        "acc = np.mean(np.round(preds) == test_labels)\n",
        "print(f\"Accuracy on test data: {acc}\")"
      ],
      "metadata": {
        "id": "4NY6n_EggpA6"
      },
      "id": "4NY6n_EggpA6",
      "execution_count": null,
      "outputs": []
    }
  ],
  "metadata": {
    "kernelspec": {
      "display_name": "Python 3 (ipykernel)",
      "language": "python",
      "name": "python3"
    },
    "language_info": {
      "codemirror_mode": {
        "name": "ipython",
        "version": 3
      },
      "file_extension": ".py",
      "mimetype": "text/x-python",
      "name": "python",
      "nbconvert_exporter": "python",
      "pygments_lexer": "ipython3",
      "version": "3.9.12"
    },
    "colab": {
      "provenance": [],
      "machine_shape": "hm",
      "private_outputs": true,
      "include_colab_link": true
    },
    "gpuClass": "standard"
  },
  "nbformat": 4,
  "nbformat_minor": 5
}