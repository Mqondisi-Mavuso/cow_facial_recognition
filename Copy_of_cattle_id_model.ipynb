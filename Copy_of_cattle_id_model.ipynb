{
  "cells": [
    {
      "cell_type": "markdown",
      "metadata": {
        "id": "view-in-github",
        "colab_type": "text"
      },
      "source": [
        "<a href=\"https://colab.research.google.com/github/Mqondisi-Mavuso/cow_facial_recognition/blob/main/Copy_of_cattle_id_model.ipynb\" target=\"_parent\"><img src=\"https://colab.research.google.com/assets/colab-badge.svg\" alt=\"Open In Colab\"/></a>"
      ]
    },
    {
      "cell_type": "code",
      "execution_count": null,
      "id": "c32027f2",
      "metadata": {
        "id": "c32027f2"
      },
      "outputs": [],
      "source": [
        "import cv2\n",
        "import numpy as np\n",
        "import pandas as pd\n",
        "import matplotlib.pyplot as plt\n",
        "import IPython.display as ipd\n",
        "%matplotlib inline"
      ]
    },
    {
      "cell_type": "code",
      "source": [
        "from google.colab import drive\n",
        "drive.mount('/content/drive')"
      ],
      "metadata": {
        "id": "OFfvsTai_i_o"
      },
      "id": "OFfvsTai_i_o",
      "execution_count": null,
      "outputs": []
    },
    {
      "cell_type": "code",
      "source": [
        "import csv\n",
        "import os\n",
        "\n",
        "# Define the directory to search for JPG files\n",
        "directory = \"/content/drive/MyDrive/DATA/train\"\n",
        "\n",
        "# Create a CSV file to write the results to\n",
        "with open(\"labels.csv\", \"w\", newline=\"\") as csvfile:\n",
        "    fieldnames = [\"filename\", \"id\"]\n",
        "    writer = csv.DictWriter(csvfile, fieldnames=fieldnames)\n",
        "    writer.writeheader()\n",
        "\n",
        "    # Loop through all subdirectories in the main directory\n",
        "    for subdir, dirs, files in os.walk(directory):\n",
        "        # Loop through all JPG files in each subdirectory\n",
        "        for file in files:\n",
        "            if file.lower().endswith(\".jpg\"):\n",
        "                # Get the filename and ID\n",
        "                filename = file\n",
        "                id = file[3:file.index(\"_\")]\n",
        "\n",
        "                # Write the filename and ID to the CSV file\n",
        "                writer.writerow({\"filename\": filename, \"id\": id})\n"
      ],
      "metadata": {
        "id": "K4g7sqA0SZfF"
      },
      "id": "K4g7sqA0SZfF",
      "execution_count": null,
      "outputs": []
    },
    {
      "cell_type": "code",
      "source": [
        "import os\n",
        "\n",
        "def rename_images(root_dir):\n",
        "    \"\"\"\n",
        "    Rename every image in every subdirectory using its directory name followed by its unique id.\n",
        "    \"\"\"\n",
        "    # Traverse all directories and files in the root directory\n",
        "    for subdir, dirs, files in os.walk(root_dir):\n",
        "        # For each image file in the current directory\n",
        "        for i, file in enumerate(files):\n",
        "            # Check if the file is an image\n",
        "            if file.endswith(\".jpg\") or file.endswith(\".jpeg\") or file.endswith(\".png\") or file.endswith(\".gif\"):\n",
        "                # Get the directory name and use it as the prefix for the new filename\n",
        "                prefix = os.path.basename(subdir)\n",
        "                # Generate a unique id for the file\n",
        "                unique_id = str(i+1)\n",
        "                # Get the file extension\n",
        "                ext = os.path.splitext(file)[1]\n",
        "                # Generate the new filename\n",
        "                new_filename = prefix + \"_\" + unique_id + ext\n",
        "                # Rename the file\n",
        "                os.rename(os.path.join(subdir, file), os.path.join(subdir, new_filename))\n",
        "\n",
        "# Example usage\n",
        "root_dir = \"/content/drive/MyDrive/DATA/train\"\n",
        "rename_images(root_dir)\n"
      ],
      "metadata": {
        "id": "N1OEqJkRNyzo"
      },
      "id": "N1OEqJkRNyzo",
      "execution_count": null,
      "outputs": []
    },
    {
      "cell_type": "code",
      "source": [
        "import os\n",
        "import random\n",
        "\n",
        "# Set the path to the directory containing the subdirectories of images\n",
        "parent_directory = \"/content/drive/MyDrive/DATA/train\"\n",
        "\n",
        "# Set the number of images to keep in each subdirectory\n",
        "num_images_to_keep = 20\n",
        "\n",
        "# Loop through each subdirectory in the parent directory\n",
        "for subdir in os.listdir(parent_directory):\n",
        "    subdir_path = os.path.join(parent_directory, subdir)\n",
        "    if os.path.isdir(subdir_path):\n",
        "        # Get a list of all the images in the subdirectory\n",
        "        images = [os.path.join(subdir_path, f) for f in os.listdir(subdir_path) if f.endswith(\".jpg\") or f.endswith(\".png\")]\n",
        "        # If there are more than num_images_to_keep images, randomly select which ones to keep\n",
        "        if len(images) > num_images_to_keep:\n",
        "            images_to_keep = random.sample(images, num_images_to_keep)\n",
        "            # Delete all the images that were not selected to be kept\n",
        "            for image in images:\n",
        "                if image not in images_to_keep:\n",
        "                    os.remove(image)\n"
      ],
      "metadata": {
        "id": "xfoyU8C_DoaA"
      },
      "id": "xfoyU8C_DoaA",
      "execution_count": null,
      "outputs": []
    },
    {
      "cell_type": "code",
      "source": [
        "# import the videos to read each frame \n",
        "cap = cv2.VideoCapture(\"DATA/test/c22/IMG_3751.MOV\")"
      ],
      "metadata": {
        "id": "05yMu-0K_DSQ"
      },
      "id": "05yMu-0K_DSQ",
      "execution_count": null,
      "outputs": []
    },
    {
      "cell_type": "code",
      "source": [
        "# total number of frames\n",
        "num_frame = int(cap.get(cv2.CAP_PROP_FRAME_COUNT))"
      ],
      "metadata": {
        "id": "dTHNhzKA_J-B"
      },
      "id": "dTHNhzKA_J-B",
      "execution_count": null,
      "outputs": []
    },
    {
      "cell_type": "code",
      "source": [
        "#getting the frames from each video\n",
        "def get_frames(num_frame):\n",
        "    for frame in range(num_frame//2):\n",
        "        ret, img = cap.read()\n",
        "        # this rotates the image before writing to file\n",
        "        rotated_img = cv2.rotate(img, cv2.ROTATE_180)        \n",
        "        if ret == False:\n",
        "            break\n",
        "        else:\n",
        "            path = r\"DATA/test/c22\"\n",
        "            name = f'/b_c{frame + 1}.jpg' \n",
        "            # write the file\n",
        "            cv2.imwrite(f'{path}{name}', rotated_img)"
      ],
      "metadata": {
        "id": "OV0ZdvW1-0ua"
      },
      "id": "OV0ZdvW1-0ua",
      "execution_count": null,
      "outputs": []
    },
    {
      "cell_type": "code",
      "source": [
        "# this call will write the images to our training folder \n",
        "get_frames(num_frame=num_frame)\n",
        "cap.release()"
      ],
      "metadata": {
        "id": "2qOLQ_1y_jrG"
      },
      "id": "2qOLQ_1y_jrG",
      "execution_count": null,
      "outputs": []
    },
    {
      "cell_type": "code",
      "source": [
        "#!pip install tensorflow-gpu"
      ],
      "metadata": {
        "id": "jRa5tqGfDiaj"
      },
      "id": "jRa5tqGfDiaj",
      "execution_count": null,
      "outputs": []
    },
    {
      "cell_type": "code",
      "execution_count": null,
      "id": "eb9d6e40",
      "metadata": {
        "id": "eb9d6e40"
      },
      "outputs": [],
      "source": [
        "# This is for downloading the YOLOv8 cow face images and labels\n",
        "# !pip install roboflow\n",
        "\n",
        "# from roboflow import Roboflow\n",
        "# rf = Roboflow(api_key=\"my_api_here\")                    \n",
        "# project = rf.workspace(\"face-cow\").project(\"thecowface\")\n",
        "# dataset = project.version(1).download(\"yolov8\")\n",
        "\n",
        "#!pip install roboflow\n",
        "\n",
        "# from roboflow import Roboflow\n",
        "# rf = Roboflow(api_key=\"GzhyGHnKKy58hjhTCDdG\")\n",
        "# project = rf.workspace(\"cowseg\").project(\"thecowface-tj1no\")\n",
        "# dataset = project.version(1).download(\"coco-segmentation\")\n"
      ]
    },
    {
      "cell_type": "code",
      "execution_count": null,
      "id": "72f8b89b",
      "metadata": {
        "id": "72f8b89b"
      },
      "outputs": [],
      "source": [
        "#training the model to segment the cow face using custom dataset \n",
        "%pip install ultralytics\n",
        "from ultralytics import YOLO\n",
        "\n",
        "model = YOLO(\"/content/drive/MyDrive/Colab_Notebooks/runs/detect/train/weights/best.pt\")\n",
        "# Training the model\n",
        "#!yolo train model=yolov8n-seg.pt data=coco128.yaml epochs=3 imgsz=640\n",
        "#model.train(data=\"/content/drive/MyDrive/cow_id_AI/cow_facial_recognition/Thecowface-1/data.yaml\", epochs=100)"
      ]
    },
    {
      "cell_type": "code",
      "source": [
        "def show_img(image_path):\n",
        "  img = cv2.imread(image_path)\n",
        "  fig, ax = plt.subplots(figsize=(15,15))\n",
        "  plt.imshow(cv2.cvtColor(img, cv2.COLOR_BGR2RGB))\n",
        "  ax.grid(False)           # remove the grid lines\n",
        "  plt.show()"
      ],
      "metadata": {
        "id": "h1cwoUxUZL5H"
      },
      "id": "h1cwoUxUZL5H",
      "execution_count": null,
      "outputs": []
    },
    {
      "cell_type": "code",
      "source": [
        "# image_path = \"/content/runs/detect/train/val_batch0_pred.jpg\"\n",
        "# show_img(image_path=image_path)"
      ],
      "metadata": {
        "id": "uBIPvc27KKl1"
      },
      "id": "uBIPvc27KKl1",
      "execution_count": null,
      "outputs": []
    },
    {
      "cell_type": "code",
      "source": [
        "# Load the first image\n",
        "confusion_matrix = cv2.imread(\"/content/runs/detect/train/confusion_matrix.png\")\n",
        "\n",
        "# Load the second image\n",
        "results = cv2.imread(\"/content/runs/detect/train/results.png\")\n",
        "\n",
        "# Create a figure with two subplots\n",
        "fig, ax = plt.subplots(1, 2, figsize=(20,20))\n",
        "\n",
        "# Display the first image on the first subplot\n",
        "ax[0].imshow(cv2.cvtColor(confusion_matrix, cv2.COLOR_BGR2RGB))\n",
        "\n",
        "# Display the second image on the second subplot\n",
        "ax[1].imshow(cv2.cvtColor(results, cv2.COLOR_BGR2RGB))\n",
        "\n",
        "ax[0].grid(False)\n",
        "ax[1].grid(False)    \n",
        "\n",
        "# Show the figure\n",
        "plt.show()\n"
      ],
      "metadata": {
        "id": "lt3y3BMuNkTu"
      },
      "id": "lt3y3BMuNkTu",
      "execution_count": null,
      "outputs": []
    },
    {
      "cell_type": "code",
      "source": [
        "#validate the model on images it has not seen\n",
        "\n",
        "#model = YOLO(\"/content/runs/detect/train2/weights/best.pt\")  # load a custom model\n",
        "\n",
        "# Validate the model\n",
        "#!yolo task=detect mode=val model=\"/content/runs/detect/train2/weights/best.pt\" data=data.yaml\n",
        "#!yolo val model='/content/runs/detect/train2/weights/best.pt data=coco128'\n",
        "\n",
        "# import subprocess\n",
        "\n",
        "# # Set up the command\n",
        "# command = ['yolo', 'task=detect', 'mode=predict', 'model=/content/runs/detect/train/weights/best.pt', 'conf=0.25', 'source=/content/drive/MyDrive/DATA/test/c12/b_c13.jpg', 'save=True']\n",
        "\n",
        "# # Run the command using subprocess\n",
        "# result = subprocess.run(command, stdout=subprocess.PIPE, stderr=subprocess.PIPE, text=True)\n",
        "\n",
        "# # Print the output\n",
        "# print(result.stdout)\n",
        "\n"
      ],
      "metadata": {
        "id": "MBmvZ7cXUlZ6"
      },
      "id": "MBmvZ7cXUlZ6",
      "execution_count": null,
      "outputs": []
    },
    {
      "cell_type": "markdown",
      "source": [
        "This is for saving the cropped facial images after facial detection"
      ],
      "metadata": {
        "id": "oTqs-vsm-WYE"
      },
      "id": "oTqs-vsm-WYE"
    },
    {
      "cell_type": "code",
      "source": [
        "from os import listdir, path\n",
        "import cv2\n",
        "import pandas as pd\n",
        "\n",
        "the_path = \"/content/drive/MyDrive/DATA/train/cow10\"\n",
        "image_filenames = listdir(the_path)\n",
        "\n",
        "for filename in image_filenames:\n",
        "    image_path = path.join(the_path, filename)\n",
        "    image = cv2.imread(image_path)\n",
        "    results = model(image)  # predict on an image\n",
        "    a = results[0].boxes.boxes\n",
        "    px = pd.DataFrame(a).astype(\"float\")\n",
        "\n",
        "    for index, row in px.iterrows():\n",
        "        x1 = int(row[0])\n",
        "        y1 = int(row[1])\n",
        "        x2 = int(row[2])\n",
        "        y2 = int(row[3])\n",
        "        \n",
        "        if (x1 != 0) and (x2 != 0):\n",
        "            # Crop the object from the image\n",
        "            object_image = image[y1:y2, x1:x2]\n",
        "            \n",
        "            # Save the cropped image as a new file in the same directory as the original image\n",
        "            new_filename = f\"{filename[:-4]}_cropped_{index}.jpg\"\n",
        "            cv2.imwrite(path.join(the_path, new_filename), object_image)\n",
        "        else:\n",
        "          continue\n"
      ],
      "metadata": {
        "id": "POVzSze6-orS"
      },
      "id": "POVzSze6-orS",
      "execution_count": null,
      "outputs": []
    },
    {
      "cell_type": "code",
      "source": [
        "# removing the uncropped images\n",
        "import os\n",
        "\n",
        "folder_path = \"/content/drive/MyDrive/DATA/train/c9\"\n",
        "\n",
        "for file_name in os.listdir(folder_path):\n",
        "    if file_name.endswith(\".jpg\") and \"cr\" not in file_name:\n",
        "        os.remove(os.path.join(folder_path, file_name))\n"
      ],
      "metadata": {
        "id": "J_JYeoJ7k8Tq"
      },
      "execution_count": null,
      "outputs": [],
      "id": "J_JYeoJ7k8Tq"
    },
    {
      "cell_type": "code",
      "execution_count": null,
      "id": "c1f3981c",
      "metadata": {
        "id": "c1f3981c"
      },
      "outputs": [],
      "source": [
        "################################## Cow Face Segmentation Above ######################### "
      ]
    },
    {
      "cell_type": "code",
      "execution_count": null,
      "id": "87528440",
      "metadata": {
        "id": "87528440"
      },
      "outputs": [],
      "source": [
        "################################## Cow Face Identification below ######################### "
      ]
    },
    {
      "cell_type": "code",
      "execution_count": null,
      "id": "dddc8bee",
      "metadata": {
        "id": "dddc8bee"
      },
      "outputs": [],
      "source": [
        "from keras.preprocessing.image import ImageDataGenerator"
      ]
    },
    {
      "cell_type": "code",
      "execution_count": null,
      "id": "7de8412a",
      "metadata": {
        "id": "7de8412a"
      },
      "outputs": [],
      "source": [
        "image_gen = ImageDataGenerator(rotation_range=30,\n",
        "                               width_shift_range=0.1,\n",
        "                               height_shift_range=0.1,\n",
        "                               rescale=1/255,\n",
        "                               shear_range=0.2,\n",
        "                               zoom_range=0.2,\n",
        "                               horizontal_flip=True,\n",
        "                               fill_mode=\"nearest\"                                \n",
        "                                )"
      ]
    },
    {
      "cell_type": "code",
      "execution_count": null,
      "id": "f18e2036",
      "metadata": {
        "id": "f18e2036"
      },
      "outputs": [],
      "source": [
        "#image_gen.flow_from_directory(\"DATA/train/\")"
      ]
    },
    {
      "cell_type": "markdown",
      "source": [
        "This is for creating pairs of facial images and their corresponding labels for training and validation in the Siamese Neural Network model for facial recognition"
      ],
      "metadata": {
        "id": "IrWbhoe09Sk9"
      },
      "id": "IrWbhoe09Sk9"
    },
    {
      "cell_type": "code",
      "execution_count": null,
      "id": "c6b6c5d8",
      "metadata": {
        "id": "c6b6c5d8"
      },
      "outputs": [],
      "source": [
        "import tensorflow as tf\n",
        "import numpy as np\n",
        "import os\n",
        "\n",
        "# Define a generator function that yields batches of data\n",
        "def data_generator():\n",
        "    while True:\n",
        "        x = np.random.rand(32, 224, 224, 3).astype(np.float32)\n",
        "        y = np.random.randint(0, 10, (32,), np.int32)\n",
        "        yield (x, x), y\n",
        "\n",
        "# Create a dataset from the generator\n",
        "train_dataset = tf.data.Dataset.from_generator(data_generator,\n",
        "                                                output_types=((tf.float32, tf.float32), tf.int32),\n",
        "                                                output_shapes=((None, 224, 224, 3), (None,)))\n",
        "\n",
        "# Define the model\n",
        "inputs = tf.keras.layers.Input(shape=(224, 224, 3))\n",
        "x = tf.keras.layers.Conv2D(64, 3, activation='relu')(inputs)\n",
        "x = tf.keras.layers.MaxPooling2D()(x)\n",
        "x = tf.keras.layers.Conv2D(64, 3, activation='relu')(x)\n",
        "x = tf.keras.layers.MaxPooling2D()(x)\n",
        "x = tf.keras.layers.Flatten()(x)\n",
        "x = tf.keras.layers.Dense(64, activation='relu')(x)\n",
        "outputs = tf.keras.layers.Dense(10, activation='softmax')(x)\n",
        "model = tf.keras.Model(inputs, outputs)\n",
        "\n",
        "# Compile the model\n",
        "model.compile(optimizer='adam', loss='sparse_categorical_crossentropy')\n",
        "\n",
        "# Train the model\n",
        "model.fit(train_dataset, epochs=5, steps_per_epoch=100)\n"
      ]
    },
    {
      "cell_type": "markdown",
      "source": [
        "Creating the Siamese Neural Network model"
      ],
      "metadata": {
        "id": "-mKScx46_4lu"
      },
      "id": "-mKScx46_4lu"
    },
    {
      "cell_type": "code",
      "source": [
        "# Define the Siamese neural network model\n",
        "def create_siamese_model():\n",
        "    # Define the input shapes for the image pairs\n",
        "    input_shape = (224, 224, 3)\n",
        "    input_1 = tf.keras.layers.Input(shape=input_shape)\n",
        "    input_2 = tf.keras.layers.Input(shape=input_shape)\n",
        "\n",
        "    # Define the convolutional base using MobileNetV2\n",
        "    base_model = tf.keras.applications.MobileNetV2(weights='imagenet',\n",
        "                                                   include_top=False,\n",
        "                                                   input_shape=input_shape)\n",
        "\n",
        "    # Freeze the convolutional base so that its weights are not updated during training\n",
        "    base_model.trainable = False\n",
        "\n",
        "    # Define the feature extraction layers\n",
        "    x1 = base_model(input_1)\n",
        "    x1 = tf\n",
        "        x1 = tf.keras.layers.GlobalAveragePooling2D()(x1)\n",
        "    \n",
        "    x2 = base_model(input_2)\n",
        "    x2 = tf.keras.layers.GlobalAveragePooling2D()(x2)\n",
        "\n",
        "    # Define the distance metric layer\n",
        "    distance = tf.keras.layers.Lambda(lambda x: tf.keras.backend.abs(x[0] - x[1]))([x1, x2])\n",
        "\n",
        "    # Define the classification layers\n",
        "    fc1 = tf.keras.layers.Dense(512, activation='relu')(distance)\n",
        "    fc2 = tf.keras.layers.Dense(128, activation='relu')(fc1)\n",
        "    output = tf.keras.layers.Dense(len(label_indices), activation='softmax')(fc2)\n",
        "\n",
        "    # Define the Siamese model\n",
        "    model = tf.keras.models.Model(inputs=[input_1, input_2], outputs=output)\n",
        "\n",
        "    # Compile the model\n",
        "    optimizer = tf.keras.optimizers.Adam(lr=0.001)\n",
        "    model.compile(optimizer=optimizer, loss='sparse_categorical_crossentropy', metrics=['accuracy'])\n",
        "\n",
        "    return model"
      ],
      "metadata": {
        "id": "DexYio7O_1ta"
      },
      "id": "DexYio7O_1ta",
      "execution_count": null,
      "outputs": []
    },
    {
      "cell_type": "code",
      "source": [
        "# Create an instance of the Siamese neural network model\n",
        "siamese_model = create_siamese_model()\n",
        "\n",
        "# Train the model\n",
        "siamese_model.fit(train_pairs, train_labels, batch_size=32, epochs=10, validation_data=(val_pairs, val_labels))"
      ],
      "metadata": {
        "id": "6LmY-JfuWwcP"
      },
      "id": "6LmY-JfuWwcP",
      "execution_count": null,
      "outputs": []
    },
    {
      "cell_type": "markdown",
      "source": [
        "Evaluating the model"
      ],
      "metadata": {
        "id": "e0szZ_WKXgbz"
      },
      "id": "e0szZ_WKXgbz"
    },
    {
      "cell_type": "code",
      "execution_count": null,
      "id": "51ab32f9",
      "metadata": {
        "id": "51ab32f9"
      },
      "outputs": [],
      "source": [
        "# Load the test dataset\n",
        "test_pairs, test_labels = create_pairs(test_data, label_indices)\n",
        "\n",
        "# Evaluate the model on the test dataset\n",
        "loss, accuracy = siamese_model.evaluate(test_pairs, test_labels)\n",
        "\n",
        "print('Test loss:', loss)\n",
        "print('Test accuracy:', accuracy)\n"
      ]
    }
  ],
  "metadata": {
    "kernelspec": {
      "display_name": "Python 3 (ipykernel)",
      "language": "python",
      "name": "python3"
    },
    "language_info": {
      "codemirror_mode": {
        "name": "ipython",
        "version": 3
      },
      "file_extension": ".py",
      "mimetype": "text/x-python",
      "name": "python",
      "nbconvert_exporter": "python",
      "pygments_lexer": "ipython3",
      "version": "3.9.12"
    },
    "colab": {
      "provenance": [],
      "machine_shape": "hm",
      "private_outputs": true,
      "include_colab_link": true
    },
    "accelerator": "TPU",
    "gpuClass": "standard"
  },
  "nbformat": 4,
  "nbformat_minor": 5
}