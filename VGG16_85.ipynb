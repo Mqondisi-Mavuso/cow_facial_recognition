{
  "nbformat": 4,
  "nbformat_minor": 0,
  "metadata": {
    "colab": {
      "provenance": [],
      "machine_shape": "hm",
      "mount_file_id": "1DZSqwvQ1d4AEVA0oO95DTq6YTyBdg8zQ",
      "authorship_tag": "ABX9TyP2nCPIGUoNfh2OEgd3Zrk8",
      "include_colab_link": true
    },
    "kernelspec": {
      "name": "python3",
      "display_name": "Python 3"
    },
    "language_info": {
      "name": "python"
    },
    "accelerator": "TPU",
    "gpuClass": "standard"
  },
  "cells": [
    {
      "cell_type": "markdown",
      "metadata": {
        "id": "view-in-github",
        "colab_type": "text"
      },
      "source": [
        "<a href=\"https://colab.research.google.com/github/Mqondisi-Mavuso/cow_facial_recognition/blob/main/VGG16_85.ipynb\" target=\"_parent\"><img src=\"https://colab.research.google.com/assets/colab-badge.svg\" alt=\"Open In Colab\"/></a>"
      ]
    },
    {
      "cell_type": "code",
      "execution_count": null,
      "metadata": {
        "colab": {
          "base_uri": "https://localhost:8080/"
        },
        "id": "sEsWq-1EFPp8",
        "outputId": "362fe737-62e0-460e-cd21-c157a1ddc876"
      },
      "outputs": [
        {
          "output_type": "stream",
          "name": "stdout",
          "text": [
            "Drive already mounted at /content/drive; to attempt to forcibly remount, call drive.mount(\"/content/drive\", force_remount=True).\n"
          ]
        }
      ],
      "source": [
        "from google.colab import drive\n",
        "drive.mount('/content/drive')"
      ]
    },
    {
      "cell_type": "code",
      "source": [
        "import matplotlib.pyplot as plt\n",
        "import numpy as np\n",
        "import os\n",
        "import PIL\n",
        "import tensorflow as tf\n",
        "from tensorflow import keras\n",
        "from keras import layers\n",
        "from tensorflow.python.keras.layers import Dense, Flatten, Dropout\n",
        "from keras.models import Sequential\n",
        "from keras.optimizers import Adam"
      ],
      "metadata": {
        "id": "vRUl26MFFep3"
      },
      "execution_count": null,
      "outputs": []
    },
    {
      "cell_type": "markdown",
      "source": [
        "## deleting some images "
      ],
      "metadata": {
        "id": "Yn64O4-jslgS"
      }
    },
    {
      "cell_type": "code",
      "source": [
        "# import os\n",
        "# import random\n",
        "\n",
        "# def main():\n",
        "#     parent_folder = \"/content/drive/MyDrive/cow_id_AI/DATA_3/test\"  # Replace this with the path to your parent folder\n",
        "#     keep_count = 10  # Number of images to keep in each subfolder\n",
        "\n",
        "#     for subdir, dirs, files in os.walk(parent_folder):\n",
        "#         if not dirs:  # Check if the current directory has no subdirectories (i.e., it's a subfolder)\n",
        "#             if len(files) > keep_count:\n",
        "#                 images = [file for file in files if file.lower().endswith(('.png', '.jpg', '.jpeg', '.gif', '.bmp', '.tiff', '.webp'))]\n",
        "#                 images_to_delete = random.sample(images, len(images) - keep_count)\n",
        "\n",
        "#                 for image in images_to_delete:\n",
        "#                     os.remove(os.path.join(subdir, image))\n",
        "#                     print(f\"Deleted {image} in {subdir}\")\n",
        "\n",
        "# if __name__ == \"__main__\":\n",
        "#     main()\n"
      ],
      "metadata": {
        "id": "kA6lLxWZr2q2"
      },
      "execution_count": null,
      "outputs": []
    },
    {
      "cell_type": "code",
      "source": [
        "data_dir = \"/content/drive/MyDrive/cow_id_AI/DATA_3/train\"\n",
        "img_height,img_width=224, 224\n",
        "batch_size=32\n",
        "train_ds = tf.keras.preprocessing.image_dataset_from_directory(\n",
        "  data_dir,\n",
        "  validation_split=0.1,\n",
        "  subset=\"training\",\n",
        "  label_mode=\"categorical\",\n",
        "  seed=123,\n",
        "  image_size=(img_height, img_width),\n",
        "  batch_size=batch_size)"
      ],
      "metadata": {
        "colab": {
          "base_uri": "https://localhost:8080/"
        },
        "id": "hSwKLwuyF8aY",
        "outputId": "ee3222de-cad6-4205-f78c-61baca3b4283"
      },
      "execution_count": null,
      "outputs": [
        {
          "output_type": "stream",
          "name": "stdout",
          "text": [
            "Found 880 files belonging to 22 classes.\n",
            "Using 792 files for training.\n"
          ]
        }
      ]
    },
    {
      "cell_type": "code",
      "source": [
        "val_ds = tf.keras.preprocessing.image_dataset_from_directory(\n",
        "  data_dir,\n",
        "  validation_split=0.1,\n",
        "  subset=\"validation\",\n",
        "  label_mode=\"categorical\",\n",
        "  seed=123,\n",
        "  image_size=(img_height, img_width),\n",
        "  batch_size=batch_size)"
      ],
      "metadata": {
        "colab": {
          "base_uri": "https://localhost:8080/"
        },
        "id": "GYtMu9uBGEui",
        "outputId": "1cc5eb12-9afd-4561-e2d9-3df23235c5a2"
      },
      "execution_count": null,
      "outputs": [
        {
          "output_type": "stream",
          "name": "stdout",
          "text": [
            "Found 880 files belonging to 22 classes.\n",
            "Using 88 files for validation.\n"
          ]
        }
      ]
    },
    {
      "cell_type": "code",
      "source": [
        "class_names = train_ds.class_names\n",
        "print(class_names)"
      ],
      "metadata": {
        "colab": {
          "base_uri": "https://localhost:8080/"
        },
        "id": "auFy5E0RGLHz",
        "outputId": "76361898-7278-4ea1-eb7d-d8206ae89b9d"
      },
      "execution_count": null,
      "outputs": [
        {
          "output_type": "stream",
          "name": "stdout",
          "text": [
            "['c1', 'c10', 'c11', 'c12', 'c13', 'c14', 'c15', 'c16', 'c17', 'c18', 'c19', 'c2', 'c20', 'c21', 'c22', 'c3', 'c4', 'c5', 'c6', 'c7', 'c8', 'c9']\n"
          ]
        }
      ]
    },
    {
      "cell_type": "code",
      "source": [
        "model = Sequential()\n",
        "\n",
        "pretrained_model= tf.keras.applications.EfficientNetV2L(include_top=False,\n",
        "                   input_shape=(224, 224, 3),\n",
        "                   pooling='avg',classes=22,\n",
        "                   weights='imagenet')\n",
        "for layer in pretrained_model.layers:\n",
        "        layer.trainable=False\n",
        "\n",
        "model.add(pretrained_model)\n",
        "model.add(Flatten())\n",
        "# model.add(Dense(512, activation='relu'))\n",
        "model.add(Dropout(0.025))\n",
        "model.add(Dense(22, activation='softmax'))\n",
        "model.add(Dropout(0.025))"
      ],
      "metadata": {
        "id": "YkC_wdyIGwgo"
      },
      "execution_count": null,
      "outputs": []
    },
    {
      "cell_type": "code",
      "source": [
        "model.summary()"
      ],
      "metadata": {
        "colab": {
          "base_uri": "https://localhost:8080/"
        },
        "id": "NfOKns97JFbD",
        "outputId": "eaffc51a-2ff2-4385-81a6-af78c328e602"
      },
      "execution_count": null,
      "outputs": [
        {
          "output_type": "stream",
          "name": "stdout",
          "text": [
            "Model: \"sequential_1\"\n",
            "_________________________________________________________________\n",
            " Layer (type)                Output Shape              Param #   \n",
            "=================================================================\n",
            " efficientnetv2-l (Functiona  (None, 1280)             117746848 \n",
            " l)                                                              \n",
            "                                                                 \n",
            " module_wrapper_3 (ModuleWra  (None, 1280)             0         \n",
            " pper)                                                           \n",
            "                                                                 \n",
            " module_wrapper_4 (ModuleWra  (None, 1280)             0         \n",
            " pper)                                                           \n",
            "                                                                 \n",
            " module_wrapper_5 (ModuleWra  (None, 22)               28182     \n",
            " pper)                                                           \n",
            "                                                                 \n",
            " module_wrapper_6 (ModuleWra  (None, 22)               0         \n",
            " pper)                                                           \n",
            "                                                                 \n",
            "=================================================================\n",
            "Total params: 117,775,030\n",
            "Trainable params: 28,182\n",
            "Non-trainable params: 117,746,848\n",
            "_________________________________________________________________\n"
          ]
        }
      ]
    },
    {
      "cell_type": "code",
      "source": [
        "model.compile(optimizer=Adam(learning_rate=0.001),loss='categorical_crossentropy',metrics=['accuracy'])"
      ],
      "metadata": {
        "id": "J9mWdCSPG7xw"
      },
      "execution_count": null,
      "outputs": []
    },
    {
      "cell_type": "code",
      "source": [
        "epochs=10\n",
        "history = model.fit(\n",
        "  train_ds,\n",
        "  validation_data=val_ds,\n",
        "  epochs=epochs\n",
        ")"
      ],
      "metadata": {
        "id": "84My-26vHEd_",
        "colab": {
          "base_uri": "https://localhost:8080/"
        },
        "outputId": "43cbf585-05c3-49cb-bae0-d6d86776179c"
      },
      "execution_count": null,
      "outputs": [
        {
          "output_type": "stream",
          "name": "stdout",
          "text": [
            "Epoch 1/10\n",
            "25/25 [==============================] - 94s 2s/step - loss: 3.1835 - accuracy: 0.1957 - val_loss: 2.6072 - val_accuracy: 0.3977\n",
            "Epoch 2/10\n",
            "25/25 [==============================] - 53s 2s/step - loss: 2.5992 - accuracy: 0.5619 - val_loss: 2.1310 - val_accuracy: 0.7727\n",
            "Epoch 3/10\n",
            "25/25 [==============================] - 54s 2s/step - loss: 2.2446 - accuracy: 0.7904 - val_loss: 1.7996 - val_accuracy: 0.8636\n",
            "Epoch 4/10\n",
            "25/25 [==============================] - 54s 2s/step - loss: 1.8854 - accuracy: 0.8624 - val_loss: 1.5263 - val_accuracy: 0.9091\n",
            "Epoch 5/10\n",
            "25/25 [==============================] - 54s 2s/step - loss: 1.7508 - accuracy: 0.8876 - val_loss: 1.3246 - val_accuracy: 0.8864\n",
            "Epoch 6/10\n",
            "25/25 [==============================] - 54s 2s/step - loss: 1.3934 - accuracy: 0.9217 - val_loss: 1.1678 - val_accuracy: 0.8977\n",
            "Epoch 7/10\n",
            "25/25 [==============================] - 53s 2s/step - loss: 1.2826 - accuracy: 0.9306 - val_loss: 1.0348 - val_accuracy: 0.9091\n",
            "Epoch 8/10\n",
            "25/25 [==============================] - 54s 2s/step - loss: 1.2476 - accuracy: 0.9343 - val_loss: 0.9309 - val_accuracy: 0.9318\n",
            "Epoch 9/10\n",
            "25/25 [==============================] - 53s 2s/step - loss: 1.0716 - accuracy: 0.9508 - val_loss: 0.8383 - val_accuracy: 0.9091\n",
            "Epoch 10/10\n",
            "25/25 [==============================] - 54s 2s/step - loss: 1.0815 - accuracy: 0.9356 - val_loss: 0.7688 - val_accuracy: 0.9318\n"
          ]
        }
      ]
    },
    {
      "cell_type": "code",
      "source": [],
      "metadata": {
        "id": "8vMa39AXhea_"
      },
      "execution_count": null,
      "outputs": []
    },
    {
      "cell_type": "markdown",
      "source": [
        "**Evaluating the model **"
      ],
      "metadata": {
        "id": "iO4C2XqeN7v7"
      }
    },
    {
      "cell_type": "code",
      "source": [
        "fig1 = plt.gcf()\n",
        "plt.plot(history.history['accuracy'])\n",
        "plt.plot(history.history['val_accuracy'])\n",
        "plt.axis(ymin=0.4,ymax=1)\n",
        "plt.grid()\n",
        "plt.title('Model Accuracy')\n",
        "plt.ylabel('Accuracy')\n",
        "plt.xlabel('Epochs')\n",
        "plt.legend(['train', 'validation'])\n",
        "plt.show()"
      ],
      "metadata": {
        "colab": {
          "base_uri": "https://localhost:8080/",
          "height": 472
        },
        "id": "uwb6Q4xsOEBL",
        "outputId": "a5ad9b94-f5fe-42d9-d076-f41eb260dc5f"
      },
      "execution_count": null,
      "outputs": [
        {
          "output_type": "display_data",
          "data": {
            "text/plain": [
              "<Figure size 640x480 with 1 Axes>"
            ],
            "image/png": "[encoded data removed]"
          },
          "metadata": {}
        }
      ]
    },
    {
      "cell_type": "code",
      "source": [
        "plt.plot(history.history['loss'])\n",
        "plt.plot(history.history['val_loss'])\n",
        "plt.grid()\n",
        "plt.title('Model Loss')\n",
        "plt.ylabel('Loss')\n",
        "plt.xlabel('Epochs')\n",
        "plt.legend(['train', 'validation'])\n",
        "plt.show()"
      ],
      "metadata": {
        "colab": {
          "base_uri": "https://localhost:8080/",
          "height": 472
        },
        "id": "_eSILU4ZOJKR",
        "outputId": "0e7d1a86-cabe-4424-997a-ad3fafe93034"
      },
      "execution_count": null,
      "outputs": [
        {
          "output_type": "display_data",
          "data": {
            "text/plain": [
              "<Figure size 640x480 with 1 Axes>"
            ],
            "image/png": "[encoded data removed]"
          },
          "metadata": {}
        }
      ]
    },
    {
      "cell_type": "markdown",
      "source": [
        "Making Preditions "
      ],
      "metadata": {
        "id": "ajeJB3jCOQ53"
      }
    },
    {
      "cell_type": "code",
      "source": [
        "import cv2\n",
        "#vgg16_model = keras.models.load_model('/content/drive/MyDrive/cow_id_AI/vgg16_62')\n",
        "image=cv2.imread(\"/content/drive/MyDrive/cow_id_AI/DATA_3/test/c10/b_c113_cropped_0.jpg\")\n",
        "image_resized= cv2.resize(image, (img_height,img_width))\n",
        "image=np.expand_dims(image_resized,axis=0)\n",
        "pred=model.predict(image)\n",
        "output_class=class_names[np.argmax(pred)]\n",
        "print(\"The predicted class is\", output_class)"
      ],
      "metadata": {
        "colab": {
          "base_uri": "https://localhost:8080/"
        },
        "id": "EO9Q8latOTlg",
        "outputId": "9e593622-6cd4-429d-fc1b-f85fcc934759"
      },
      "execution_count": null,
      "outputs": [
        {
          "output_type": "stream",
          "name": "stdout",
          "text": [
            "1/1 [==============================] - 7s 7s/step\n",
            "The predicted class is c14\n"
          ]
        }
      ]
    },
    {
      "cell_type": "code",
      "source": [
        "# Already saved model\n",
        "# vgg16_model = keras.models.load_model('/content/drive/MyDrive/cow_id_AI/vgg16_62')\n",
        "# test_dir = '/content/drive/MyDrive/cow_id_AI/DATA/test'\n",
        "# img_height,img_width=224, 224\n",
        "# test_generator = tf.keras.preprocessing.image_dataset_from_directory(\n",
        "#     test_dir,\n",
        "#     image_size=(img_height,img_width),\n",
        "#     batch_size=5,\n",
        "#     label_mode='categorical',\n",
        "#     shuffle=False)\n",
        "\n",
        "\n",
        "# # Evaluate your model\n",
        "# test_loss, test_accuracy = vgg16_model.evaluate(test_generator)\n",
        "\n",
        "# # Print the results\n",
        "# print(f\"Test accuracy: {test_accuracy}\")"
      ],
      "metadata": {
        "colab": {
          "base_uri": "https://localhost:8080/"
        },
        "id": "efmRZHNSOib2",
        "outputId": "468a290e-6026-4f20-b1b8-2f1281b11081"
      },
      "execution_count": null,
      "outputs": [
        {
          "output_type": "stream",
          "name": "stdout",
          "text": [
            "Found 65 files belonging to 22 classes.\n",
            "13/13 [==============================] - 42s 3s/step - loss: 1.6074 - accuracy: 0.7077\n",
            "Test accuracy: 0.7076923251152039\n"
          ]
        }
      ]
    },
    {
      "cell_type": "code",
      "source": [
        "# Newly tested model\n",
        "test_dir = '/content/drive/MyDrive/cow_id_AI/DATA_3/test'\n",
        "test_generator = tf.keras.preprocessing.image_dataset_from_directory(\n",
        "    test_dir,\n",
        "    image_size=(img_height,img_width),\n",
        "    batch_size=32,\n",
        "    label_mode='categorical',\n",
        "    shuffle=False)\n",
        "\n",
        "\n",
        "# Evaluate your model\n",
        "test_loss, test_accuracy = model.evaluate(test_generator)\n",
        "\n",
        "# Print the results\n",
        "print(f\"Test accuracy: {test_accuracy}\")"
      ],
      "metadata": {
        "colab": {
          "base_uri": "https://localhost:8080/"
        },
        "id": "cWIpcWRFQl5V",
        "outputId": "c6815323-3525-4fdd-a44c-0aa7283b1567"
      },
      "execution_count": null,
      "outputs": [
        {
          "output_type": "stream",
          "name": "stdout",
          "text": [
            "Found 220 files belonging to 22 classes.\n",
            "7/7 [==============================] - 13s 2s/step - loss: 1.3904 - accuracy: 0.7182\n",
            "Test accuracy: 0.7181817889213562\n"
          ]
        }
      ]
    },
    {
      "cell_type": "markdown",
      "source": [
        "Saving the model"
      ],
      "metadata": {
        "id": "KGC8ow7yDI0e"
      }
    },
    {
      "cell_type": "code",
      "source": [
        "EfficientNetV2L = model\n",
        "EfficientNetV2L.save('/content/drive/MyDrive/cow_id_AI/EfficientNetV2S_85_1604')"
      ],
      "metadata": {
        "colab": {
          "base_uri": "https://localhost:8080/"
        },
        "id": "nG9nBTRVDK9T",
        "outputId": "8606bec6-5f1b-4d37-cc9d-f4bc48d95112"
      },
      "execution_count": null,
      "outputs": [
        {
          "output_type": "stream",
          "name": "stderr",
          "text": [
            "WARNING:absl:Function `_wrapped_model` contains input name(s) efficientnetv2-l_input with unsupported characters which will be renamed to efficientnetv2_l_input in the SavedModel.\n",
            "WARNING:absl:`efficientnetv2-l_input` is not a valid tf.function parameter name. Sanitizing to `efficientnetv2_l_input`.\n",
            "WARNING:absl:`efficientnetv2-l_input` is not a valid tf.function parameter name. Sanitizing to `efficientnetv2_l_input`.\n",
            "WARNING:absl:Found untraced functions such as _jit_compiled_convolution_op, _jit_compiled_convolution_op, _jit_compiled_convolution_op, _jit_compiled_convolution_op, _jit_compiled_convolution_op while saving (showing 5 of 347). These functions will not be directly callable after loading.\n"
          ]
        }
      ]
    },
    {
      "cell_type": "code",
      "source": [
        "# LOADING THE MODEL\n",
        "model = keras.models.load_model('/content/drive/MyDrive/cow_id_AI/vgg16_62')\n",
        "\n",
        "#predict on the image using saved model\n",
        "image=cv2.imread(\"/content/drive/MyDrive/cow_id_AI/DATA/test/c14/c14_1_cropped_0.jpg\")\n",
        "image_resized= cv2.resize(image, (img_height,img_width))\n",
        "image=np.expand_dims(image_resized,axis=0)\n",
        "pred=model.predict(image)\n",
        "output_class=class_names[np.argmax(pred)]\n",
        "print(\"The predicted class is\", output_class)\n"
      ],
      "metadata": {
        "id": "aRxKATHkD6P4",
        "colab": {
          "base_uri": "https://localhost:8080/"
        },
        "outputId": "ca5439ad-09c6-49ba-b7a6-f643a654af35"
      },
      "execution_count": null,
      "outputs": [
        {
          "output_type": "stream",
          "name": "stdout",
          "text": [
            "1/1 [==============================] - 1s 785ms/step\n",
            "The predicted class is cow19\n"
          ]
        }
      ]
    }
  ]
}